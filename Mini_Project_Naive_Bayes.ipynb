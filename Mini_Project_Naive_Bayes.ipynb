{
 "cells": [
  {
   "cell_type": "markdown",
   "metadata": {},
   "source": [
    "# Basic Text Classification with Naive Bayes\n",
    "***\n",
    "In the mini-project, you'll learn the basics of text analysis using a subset of movie reviews from the rotten tomatoes database. You'll also use a fundamental technique in Bayesian inference, called Naive Bayes. This mini-project is based on [Lab 10 of Harvard's CS109](https://github.com/cs109/2015lab10) class.  Please free to go to the original lab for additional exercises and solutions."
   ]
  },
  {
   "cell_type": "code",
   "execution_count": 113,
   "metadata": {},
   "outputs": [],
   "source": [
    "%matplotlib inline\n",
    "import numpy as np\n",
    "import scipy as sp\n",
    "import matplotlib as mpl\n",
    "import matplotlib.cm as cm\n",
    "import matplotlib.pyplot as plt\n",
    "import pandas as pd\n",
    "import seaborn as sns\n",
    "from six.moves import range\n",
    "\n",
    "# Setup Pandas\n",
    "pd.set_option('display.width', 500)\n",
    "pd.set_option('display.max_columns', 100)\n",
    "pd.set_option('display.notebook_repr_html', True)\n",
    "\n",
    "# Setup Seaborn\n",
    "sns.set_style(\"whitegrid\")\n",
    "sns.set_context(\"poster\")"
   ]
  },
  {
   "cell_type": "markdown",
   "metadata": {},
   "source": [
    "# Table of Contents\n",
    "\n",
    "* [Rotten Tomatoes Dataset](#Rotten-Tomatoes-Dataset)\n",
    "    * [Explore](#Explore)\n",
    "* [The Vector Space Model and a Search Engine](#The-Vector-Space-Model-and-a-Search-Engine)\n",
    "    * [In Code](#In-Code)\n",
    "* [Naive Bayes](#Naive-Bayes)\n",
    "    * [Multinomial Naive Bayes and Other Likelihood Functions](#Multinomial-Naive-Bayes-and-Other-Likelihood-Functions)\n",
    "    * [Picking Hyperparameters for Naive Bayes and Text Maintenance](#Picking-Hyperparameters-for-Naive-Bayes-and-Text-Maintenance)\n",
    "* [Interpretation](#Interpretation)\n"
   ]
  },
  {
   "cell_type": "markdown",
   "metadata": {},
   "source": [
    "## Rotten Tomatoes Dataset"
   ]
  },
  {
   "cell_type": "code",
   "execution_count": 114,
   "metadata": {},
   "outputs": [
    {
     "data": {
      "text/html": [
       "<div>\n",
       "<style scoped>\n",
       "    .dataframe tbody tr th:only-of-type {\n",
       "        vertical-align: middle;\n",
       "    }\n",
       "\n",
       "    .dataframe tbody tr th {\n",
       "        vertical-align: top;\n",
       "    }\n",
       "\n",
       "    .dataframe thead th {\n",
       "        text-align: right;\n",
       "    }\n",
       "</style>\n",
       "<table border=\"1\" class=\"dataframe\">\n",
       "  <thead>\n",
       "    <tr style=\"text-align: right;\">\n",
       "      <th></th>\n",
       "      <th>critic</th>\n",
       "      <th>fresh</th>\n",
       "      <th>imdb</th>\n",
       "      <th>publication</th>\n",
       "      <th>quote</th>\n",
       "      <th>review_date</th>\n",
       "      <th>rtid</th>\n",
       "      <th>title</th>\n",
       "    </tr>\n",
       "  </thead>\n",
       "  <tbody>\n",
       "    <tr>\n",
       "      <th>1</th>\n",
       "      <td>Derek Adams</td>\n",
       "      <td>fresh</td>\n",
       "      <td>114709</td>\n",
       "      <td>Time Out</td>\n",
       "      <td>So ingenious in concept, design and execution ...</td>\n",
       "      <td>2009-10-04</td>\n",
       "      <td>9559</td>\n",
       "      <td>Toy story</td>\n",
       "    </tr>\n",
       "    <tr>\n",
       "      <th>2</th>\n",
       "      <td>Richard Corliss</td>\n",
       "      <td>fresh</td>\n",
       "      <td>114709</td>\n",
       "      <td>TIME Magazine</td>\n",
       "      <td>The year's most inventive comedy.</td>\n",
       "      <td>2008-08-31</td>\n",
       "      <td>9559</td>\n",
       "      <td>Toy story</td>\n",
       "    </tr>\n",
       "    <tr>\n",
       "      <th>3</th>\n",
       "      <td>David Ansen</td>\n",
       "      <td>fresh</td>\n",
       "      <td>114709</td>\n",
       "      <td>Newsweek</td>\n",
       "      <td>A winning animated feature that has something ...</td>\n",
       "      <td>2008-08-18</td>\n",
       "      <td>9559</td>\n",
       "      <td>Toy story</td>\n",
       "    </tr>\n",
       "    <tr>\n",
       "      <th>4</th>\n",
       "      <td>Leonard Klady</td>\n",
       "      <td>fresh</td>\n",
       "      <td>114709</td>\n",
       "      <td>Variety</td>\n",
       "      <td>The film sports a provocative and appealing st...</td>\n",
       "      <td>2008-06-09</td>\n",
       "      <td>9559</td>\n",
       "      <td>Toy story</td>\n",
       "    </tr>\n",
       "    <tr>\n",
       "      <th>5</th>\n",
       "      <td>Jonathan Rosenbaum</td>\n",
       "      <td>fresh</td>\n",
       "      <td>114709</td>\n",
       "      <td>Chicago Reader</td>\n",
       "      <td>An entertaining computer-generated, hyperreali...</td>\n",
       "      <td>2008-03-10</td>\n",
       "      <td>9559</td>\n",
       "      <td>Toy story</td>\n",
       "    </tr>\n",
       "  </tbody>\n",
       "</table>\n",
       "</div>"
      ],
      "text/plain": [
       "               critic  fresh    imdb     publication                                              quote review_date  rtid      title\n",
       "1         Derek Adams  fresh  114709        Time Out  So ingenious in concept, design and execution ...  2009-10-04  9559  Toy story\n",
       "2     Richard Corliss  fresh  114709   TIME Magazine                  The year's most inventive comedy.  2008-08-31  9559  Toy story\n",
       "3         David Ansen  fresh  114709        Newsweek  A winning animated feature that has something ...  2008-08-18  9559  Toy story\n",
       "4       Leonard Klady  fresh  114709         Variety  The film sports a provocative and appealing st...  2008-06-09  9559  Toy story\n",
       "5  Jonathan Rosenbaum  fresh  114709  Chicago Reader  An entertaining computer-generated, hyperreali...  2008-03-10  9559  Toy story"
      ]
     },
     "execution_count": 114,
     "metadata": {},
     "output_type": "execute_result"
    }
   ],
   "source": [
    "critics = pd.read_csv('./critics.csv')\n",
    "#let's drop rows with missing quotes\n",
    "critics = critics[~critics.quote.isnull()]\n",
    "critics.head()"
   ]
  },
  {
   "cell_type": "markdown",
   "metadata": {},
   "source": [
    "### Explore"
   ]
  },
  {
   "cell_type": "code",
   "execution_count": 115,
   "metadata": {},
   "outputs": [
    {
     "name": "stdout",
     "output_type": "stream",
     "text": [
      "Number of reviews: 15561\n",
      "Number of critics: 623\n",
      "Number of movies:  1921\n"
     ]
    }
   ],
   "source": [
    "n_reviews = len(critics)\n",
    "n_movies = critics.rtid.unique().size\n",
    "n_critics = critics.critic.unique().size\n",
    "\n",
    "\n",
    "print(\"Number of reviews: {:d}\".format(n_reviews))\n",
    "print(\"Number of critics: {:d}\".format(n_critics))\n",
    "print(\"Number of movies:  {:d}\".format(n_movies))"
   ]
  },
  {
   "cell_type": "code",
   "execution_count": 116,
   "metadata": {},
   "outputs": [
    {
     "data": {
      "image/png": "[encoded data removed]",
      "text/plain": [
       "<matplotlib.figure.Figure at 0xc892f90>"
      ]
     },
     "metadata": {},
     "output_type": "display_data"
    }
   ],
   "source": [
    "df = critics.copy()\n",
    "df['fresh'] = df.fresh == 'fresh'\n",
    "grp = df.groupby('critic')\n",
    "counts = grp.critic.count()  # number of reviews by each critic\n",
    "means = grp.fresh.mean()     # average freshness for each critic\n",
    "\n",
    "means[counts > 100].hist(bins=10, edgecolor='w', lw=1)\n",
    "plt.xlabel(\"Average Rating per critic\")\n",
    "plt.ylabel(\"Number of Critics\")\n",
    "plt.yticks([0, 2, 4, 6, 8, 10]);"
   ]
  },
  {
   "cell_type": "markdown",
   "metadata": {},
   "source": [
    "<div class=\"span5 alert alert-info\">\n",
    "<h3>Exercise Set I</h3>\n",
    "<br/>\n",
    "<b>Exercise:</b> Look at the histogram above. Tell a story about the average ratings per critic. What shape does the distribution look like? What is interesting about the distribution? What might explain these interesting things?\n",
    "</div>"
   ]
  },
  {
   "cell_type": "markdown",
   "metadata": {},
   "source": [
    "The distribution of average critic rating is appears to be to bimodal. This tells us that there are two groups of critics based on their average ratings."
   ]
  },
  {
   "cell_type": "markdown",
   "metadata": {},
   "source": [
    "## The Vector Space Model and a Search Engine"
   ]
  },
  {
   "cell_type": "markdown",
   "metadata": {},
   "source": [
    "All the diagrams here are snipped from [*Introduction to Information Retrieval* by Manning et. al.]( http://nlp.stanford.edu/IR-book/) which is a great resource on text processing. For additional information on text mining and natural language processing, see [*Foundations of Statistical Natural Language Processing* by Manning and Schutze](http://nlp.stanford.edu/fsnlp/).\n",
    "\n",
    "Also check out Python packages [`nltk`](http://www.nltk.org/), [`spaCy`](https://spacy.io/), [`pattern`](http://www.clips.ua.ac.be/pattern), and their associated resources. Also see [`word2vec`](https://en.wikipedia.org/wiki/Word2vec).\n",
    "\n",
    "Let us define the vector derived from document $d$ by $\\bar V(d)$. What does this mean? Each document is treated as a vector containing information about the words contained in it. Each vector has the same length and each entry \"slot\" in the vector contains some kind of data about the words that appear in the document such as presence/absence (1/0), count (an integer) or some other statistic. Each vector has the same length because each document shared the same vocabulary across the full collection of documents -- this collection is called a *corpus*.\n",
    "\n",
    "To define the vocabulary, we take a union of all words we have seen in all documents. We then just associate an array index with them. So \"hello\" may be at index 5 and \"world\" at index 99.\n",
    "\n",
    "Suppose we have the following corpus:\n",
    "\n",
    "`A Fox one day spied a beautiful bunch of ripe grapes hanging from a vine trained along the branches of a tree. The grapes seemed ready to burst with juice, and the Fox's mouth watered as he gazed longingly at them.`\n",
    "\n",
    "Suppose we treat each sentence as a document $d$. The vocabulary (often called the *lexicon*) is the following:\n",
    "\n",
    "$V = \\left\\{\\right.$ `a, along, and, as, at, beautiful, branches, bunch, burst, day, fox, fox's, from, gazed, grapes, hanging, he, juice, longingly, mouth, of, one, ready, ripe, seemed, spied, the, them, to, trained, tree, vine, watered, with`$\\left.\\right\\}$\n",
    "\n",
    "Then the document\n",
    "\n",
    "`A Fox one day spied a beautiful bunch of ripe grapes hanging from a vine trained along the branches of a tree`\n",
    "\n",
    "may be represented as the following sparse vector of word counts:\n",
    "\n",
    "$$\\bar V(d) = \\left( 4,1,0,0,0,1,1,1,0,1,1,0,1,0,1,1,0,0,0,0,2,1,0,1,0,0,1,0,0,0,1,1,0,0 \\right)$$\n",
    "\n",
    "or more succinctly as\n",
    "\n",
    "`[(0, 4), (1, 1), (5, 1), (6, 1), (7, 1), (9, 1), (10, 1), (12, 1), (14, 1), (15, 1), (20, 2), (21, 1), (23, 1),`\n",
    "`(26, 1), (30, 1), (31, 1)]`\n",
    "\n",
    "along with a dictionary\n",
    "\n",
    "``\n",
    "{\n",
    "    0: a, 1: along, 5: beautiful, 6: branches, 7: bunch, 9: day, 10: fox, 12: from, 14: grapes, \n",
    "    15: hanging, 19: mouth, 20: of, 21: one, 23: ripe, 24: seemed, 25: spied, 26: the, \n",
    "    30: tree, 31: vine, \n",
    "}\n",
    "``\n",
    "\n",
    "Then, a set of documents becomes, in the usual `sklearn` style, a sparse matrix with rows being sparse arrays representing documents and columns representing the features/words in the vocabulary.\n",
    "\n",
    "Notice that this representation loses the relative ordering of the terms in the document. That is \"cat ate rat\" and \"rat ate cat\" are the same. Thus, this representation is also known as the Bag-Of-Words representation.\n",
    "\n",
    "Here is another example, from the book quoted above, although the matrix is transposed here so that documents are columns:\n",
    "\n",
    "![novel terms](terms.png)\n",
    "\n",
    "Such a matrix is also catted a Term-Document Matrix. Here, the terms being indexed could be stemmed before indexing; for instance, `jealous` and `jealousy` after stemming are the same feature. One could also make use of other \"Natural Language Processing\" transformations in constructing the vocabulary. We could use Lemmatization, which reduces words to lemmas: work, working, worked would all reduce to work. We could remove \"stopwords\" from our vocabulary, such as common words like \"the\". We could look for particular parts of speech, such as adjectives. This is often done in Sentiment Analysis. And so on. It all depends on our application.\n",
    "\n",
    "From the book:\n",
    ">The standard way of quantifying the similarity between two documents $d_1$ and $d_2$  is to compute the cosine similarity of their vector representations $\\bar V(d_1)$ and $\\bar V(d_2)$:\n",
    "\n",
    "$$S_{12} = \\frac{\\bar V(d_1) \\cdot \\bar V(d_2)}{|\\bar V(d_1)| \\times |\\bar V(d_2)|}$$\n",
    "\n",
    "![Vector Space Model](vsm.png)\n",
    "\n",
    "\n",
    ">There is a far more compelling reason to represent documents as vectors: we can also view a query as a vector. Consider the query q = jealous gossip. This query turns into the unit vector $\\bar V(q)$ = (0, 0.707, 0.707) on the three coordinates below. \n",
    "\n",
    "![novel terms](terms2.png)\n",
    "\n",
    ">The key idea now: to assign to each document d a score equal to the dot product:\n",
    "\n",
    "$$\\bar V(q) \\cdot \\bar V(d)$$\n",
    "\n",
    "Then we can use this simple Vector Model as a Search engine."
   ]
  },
  {
   "cell_type": "markdown",
   "metadata": {},
   "source": [
    "### In Code"
   ]
  },
  {
   "cell_type": "code",
   "execution_count": 117,
   "metadata": {},
   "outputs": [
    {
     "name": "stdout",
     "output_type": "stream",
     "text": [
      "Original text is\n",
      "Hop on pop\n",
      "Hop off pop\n",
      "Hop Hop hop\n",
      "\n",
      "Transformed text vector is \n",
      "[[1 0 1 1]\n",
      " [1 1 0 1]\n",
      " [3 0 0 0]]\n",
      "\n",
      "Words for each feature:\n",
      "['hop', 'off', 'on', 'pop']\n"
     ]
    }
   ],
   "source": [
    "from sklearn.feature_extraction.text import CountVectorizer\n",
    "\n",
    "text = ['Hop on pop', 'Hop off pop', 'Hop Hop hop']\n",
    "print(\"Original text is\\n{}\".format('\\n'.join(text)))\n",
    "\n",
    "vectorizer = CountVectorizer(min_df=0)\n",
    "\n",
    "# call `fit` to build the vocabulary\n",
    "vectorizer.fit(text)\n",
    "\n",
    "# call `transform` to convert text to a bag of words\n",
    "x = vectorizer.transform(text)\n",
    "\n",
    "# CountVectorizer uses a sparse array to save memory, but it's easier in this assignment to \n",
    "# convert back to a \"normal\" numpy array\n",
    "x = x.toarray()\n",
    "\n",
    "print(\"\")\n",
    "print(\"Transformed text vector is \\n{}\".format(x))\n",
    "\n",
    "# `get_feature_names` tracks which word is associated with each column of the transformed x\n",
    "print(\"\")\n",
    "print(\"Words for each feature:\")\n",
    "print(vectorizer.get_feature_names())\n",
    "\n",
    "# Notice that the bag of words treatment doesn't preserve information about the *order* of words, \n",
    "# just their frequency"
   ]
  },
  {
   "cell_type": "code",
   "execution_count": 118,
   "metadata": {},
   "outputs": [],
   "source": [
    "def make_xy(critics, vectorizer=None):   \n",
    "    if vectorizer is None:\n",
    "        vectorizer = CountVectorizer()\n",
    "    X = vectorizer.fit_transform(critics.quote)\n",
    "    #print(vectorizer.get_feature_names())\n",
    "    X = X.tocsc()  # some versions of sklearn return COO format\n",
    "    y = (critics.fresh == 'fresh').values.astype(np.int)\n",
    "    return X, y\n",
    "#X, y = make_xy(critics)"
   ]
  },
  {
   "cell_type": "markdown",
   "metadata": {},
   "source": [
    "## Naive Bayes"
   ]
  },
  {
   "cell_type": "markdown",
   "metadata": {},
   "source": [
    "From Bayes' Theorem, we have that\n",
    "\n",
    "$$P(c \\vert f) = \\frac{P(c \\cap f)}{P(f)}$$\n",
    "\n",
    "where $c$ represents a *class* or category, and $f$ represents a feature vector, such as $\\bar V(d)$ as above. **We are computing the probability that a document (or whatever we are classifying) belongs to category *c* given the features in the document.** $P(f)$ is really just a normalization constant, so the literature usually writes Bayes' Theorem in context of Naive Bayes as\n",
    "\n",
    "$$P(c \\vert f) \\propto P(f \\vert c) P(c) $$\n",
    "\n",
    "$P(c)$ is called the *prior* and is simply the probability of seeing class $c$. But what is $P(f \\vert c)$? This is the probability that we see feature set $f$ given that this document is actually in class $c$. This is called the *likelihood* and comes from the data. One of the major assumptions of the Naive Bayes model is that the features are *conditionally independent* given the class. While the presence of a particular discriminative word may uniquely identify the document as being part of class $c$ and thus violate general feature independence, conditional independence means that the presence of that term is independent of all the other words that appear *within that class*. This is a very important distinction. Recall that if two events are independent, then:\n",
    "\n",
    "$$P(A \\cap B) = P(A) \\cdot P(B)$$\n",
    "\n",
    "Thus, conditional independence implies\n",
    "\n",
    "$$P(f \\vert c)  = \\prod_i P(f_i | c) $$\n",
    "\n",
    "where $f_i$ is an individual feature (a word in this example).\n",
    "\n",
    "To make a classification, we then choose the class $c$ such that $P(c \\vert f)$ is maximal.\n",
    "\n",
    "There is a small caveat when computing these probabilities. For [floating point underflow](http://nlp.stanford.edu/IR-book/html/htmledition/naive-bayes-text-classification-1.html) we change the product into a sum by going into log space. This is called the LogSumExp trick. So:\n",
    "\n",
    "$$\\log P(f \\vert c)  = \\sum_i \\log P(f_i \\vert c) $$\n",
    "\n",
    "There is another caveat. What if we see a term that didn't exist in the training data? This means that $P(f_i \\vert c) = 0$ for that term, and thus $P(f \\vert c)  = \\prod_i P(f_i | c) = 0$, which doesn't help us at all. Instead of using zeros, we add a small negligible value called $\\alpha$ to each count. This is called Laplace Smoothing.\n",
    "\n",
    "$$P(f_i \\vert c) = \\frac{N_{ic}+\\alpha}{N_c + \\alpha N_i}$$\n",
    "\n",
    "where $N_{ic}$ is the number of times feature $i$ was seen in class $c$, $N_c$ is the number of times class $c$ was seen and $N_i$ is the number of times feature $i$ was seen globally. $\\alpha$ is sometimes called a regularization parameter."
   ]
  },
  {
   "cell_type": "markdown",
   "metadata": {},
   "source": [
    "### Multinomial Naive Bayes and Other Likelihood Functions\n",
    "\n",
    "Since we are modeling word counts, we are using variation of Naive Bayes called Multinomial Naive Bayes. This is because the likelihood function actually takes the form of the multinomial distribution.\n",
    "\n",
    "$$P(f \\vert c) = \\frac{\\left( \\sum_i f_i \\right)!}{\\prod_i f_i!} \\prod_{f_i} P(f_i \\vert c)^{f_i} \\propto \\prod_{i} P(f_i \\vert c)$$\n",
    "\n",
    "where the nasty term out front is absorbed as a normalization constant such that probabilities sum to 1.\n",
    "\n",
    "There are many other variations of Naive Bayes, all which depend on what type of value $f_i$ takes. If $f_i$ is continuous, we may be able to use *Gaussian Naive Bayes*. First compute the mean and variance for each class $c$. Then the likelihood, $P(f \\vert c)$ is given as follows\n",
    "\n",
    "$$P(f_i = v \\vert c) = \\frac{1}{\\sqrt{2\\pi \\sigma^2_c}} e^{- \\frac{\\left( v - \\mu_c \\right)^2}{2 \\sigma^2_c}}$$"
   ]
  },
  {
   "cell_type": "markdown",
   "metadata": {},
   "source": [
    "<div class=\"span5 alert alert-info\">\n",
    "<h3>Exercise Set II</h3>\n",
    "\n",
    "<p><b>Exercise:</b> Implement a simple Naive Bayes classifier:</p>\n",
    "\n",
    "<ol>\n",
    "<li> split the data set into a training and test set\n",
    "<li> Use `scikit-learn`'s `MultinomialNB()` classifier with default parameters.\n",
    "<li> train the classifier over the training set and test on the test set\n",
    "<li> print the accuracy scores for both the training and the test sets\n",
    "</ol>\n",
    "\n",
    "What do you notice? Is this a good classifier? If not, why not?\n",
    "</div>"
   ]
  },
  {
   "cell_type": "code",
   "execution_count": 119,
   "metadata": {},
   "outputs": [],
   "source": [
    "from sklearn.cross_validation import train_test_split\n",
    "from sklearn.naive_bayes import MultinomialNB"
   ]
  },
  {
   "cell_type": "code",
   "execution_count": 120,
   "metadata": {},
   "outputs": [
    {
     "data": {
      "text/html": [
       "<div>\n",
       "<style scoped>\n",
       "    .dataframe tbody tr th:only-of-type {\n",
       "        vertical-align: middle;\n",
       "    }\n",
       "\n",
       "    .dataframe tbody tr th {\n",
       "        vertical-align: top;\n",
       "    }\n",
       "\n",
       "    .dataframe thead th {\n",
       "        text-align: right;\n",
       "    }\n",
       "</style>\n",
       "<table border=\"1\" class=\"dataframe\">\n",
       "  <thead>\n",
       "    <tr style=\"text-align: right;\">\n",
       "      <th></th>\n",
       "      <th>critic</th>\n",
       "      <th>fresh</th>\n",
       "      <th>imdb</th>\n",
       "      <th>publication</th>\n",
       "      <th>quote</th>\n",
       "      <th>review_date</th>\n",
       "      <th>rtid</th>\n",
       "      <th>title</th>\n",
       "    </tr>\n",
       "  </thead>\n",
       "  <tbody>\n",
       "    <tr>\n",
       "      <th>1</th>\n",
       "      <td>Derek Adams</td>\n",
       "      <td>fresh</td>\n",
       "      <td>114709</td>\n",
       "      <td>Time Out</td>\n",
       "      <td>So ingenious in concept, design and execution ...</td>\n",
       "      <td>2009-10-04</td>\n",
       "      <td>9559</td>\n",
       "      <td>Toy story</td>\n",
       "    </tr>\n",
       "    <tr>\n",
       "      <th>2</th>\n",
       "      <td>Richard Corliss</td>\n",
       "      <td>fresh</td>\n",
       "      <td>114709</td>\n",
       "      <td>TIME Magazine</td>\n",
       "      <td>The year's most inventive comedy.</td>\n",
       "      <td>2008-08-31</td>\n",
       "      <td>9559</td>\n",
       "      <td>Toy story</td>\n",
       "    </tr>\n",
       "    <tr>\n",
       "      <th>3</th>\n",
       "      <td>David Ansen</td>\n",
       "      <td>fresh</td>\n",
       "      <td>114709</td>\n",
       "      <td>Newsweek</td>\n",
       "      <td>A winning animated feature that has something ...</td>\n",
       "      <td>2008-08-18</td>\n",
       "      <td>9559</td>\n",
       "      <td>Toy story</td>\n",
       "    </tr>\n",
       "    <tr>\n",
       "      <th>4</th>\n",
       "      <td>Leonard Klady</td>\n",
       "      <td>fresh</td>\n",
       "      <td>114709</td>\n",
       "      <td>Variety</td>\n",
       "      <td>The film sports a provocative and appealing st...</td>\n",
       "      <td>2008-06-09</td>\n",
       "      <td>9559</td>\n",
       "      <td>Toy story</td>\n",
       "    </tr>\n",
       "    <tr>\n",
       "      <th>5</th>\n",
       "      <td>Jonathan Rosenbaum</td>\n",
       "      <td>fresh</td>\n",
       "      <td>114709</td>\n",
       "      <td>Chicago Reader</td>\n",
       "      <td>An entertaining computer-generated, hyperreali...</td>\n",
       "      <td>2008-03-10</td>\n",
       "      <td>9559</td>\n",
       "      <td>Toy story</td>\n",
       "    </tr>\n",
       "  </tbody>\n",
       "</table>\n",
       "</div>"
      ],
      "text/plain": [
       "               critic  fresh    imdb     publication                                              quote review_date  rtid      title\n",
       "1         Derek Adams  fresh  114709        Time Out  So ingenious in concept, design and execution ...  2009-10-04  9559  Toy story\n",
       "2     Richard Corliss  fresh  114709   TIME Magazine                  The year's most inventive comedy.  2008-08-31  9559  Toy story\n",
       "3         David Ansen  fresh  114709        Newsweek  A winning animated feature that has something ...  2008-08-18  9559  Toy story\n",
       "4       Leonard Klady  fresh  114709         Variety  The film sports a provocative and appealing st...  2008-06-09  9559  Toy story\n",
       "5  Jonathan Rosenbaum  fresh  114709  Chicago Reader  An entertaining computer-generated, hyperreali...  2008-03-10  9559  Toy story"
      ]
     },
     "execution_count": 120,
     "metadata": {},
     "output_type": "execute_result"
    }
   ],
   "source": [
    "critics.head()"
   ]
  },
  {
   "cell_type": "code",
   "execution_count": 121,
   "metadata": {},
   "outputs": [],
   "source": [
    "X, y = make_xy(critics)"
   ]
  },
  {
   "cell_type": "code",
   "execution_count": 122,
   "metadata": {},
   "outputs": [],
   "source": [
    "#print(train_test_split.__doc__)"
   ]
  },
  {
   "cell_type": "code",
   "execution_count": 123,
   "metadata": {},
   "outputs": [],
   "source": [
    "x_train, x_test, y_train, y_test = train_test_split(X, y)"
   ]
  },
  {
   "cell_type": "code",
   "execution_count": 124,
   "metadata": {},
   "outputs": [],
   "source": [
    "model = MultinomialNB().fit(x_train, y_train)"
   ]
  },
  {
   "cell_type": "code",
   "execution_count": 125,
   "metadata": {},
   "outputs": [
    {
     "data": {
      "text/plain": [
       "0.91868037703513283"
      ]
     },
     "execution_count": 125,
     "metadata": {},
     "output_type": "execute_result"
    }
   ],
   "source": [
    "model.score(x_train, y_train)"
   ]
  },
  {
   "cell_type": "code",
   "execution_count": 126,
   "metadata": {},
   "outputs": [
    {
     "data": {
      "text/plain": [
       "0.78129015677203806"
      ]
     },
     "execution_count": 126,
     "metadata": {},
     "output_type": "execute_result"
    }
   ],
   "source": [
    "model.score(x_test, y_test)"
   ]
  },
  {
   "cell_type": "markdown",
   "metadata": {},
   "source": [
    "Based on the high accuracy score on the training set, and significantly lower score on test set, it is clear that the model is overfitted."
   ]
  },
  {
   "cell_type": "markdown",
   "metadata": {},
   "source": [
    "### Picking Hyperparameters for Naive Bayes and Text Maintenance"
   ]
  },
  {
   "cell_type": "markdown",
   "metadata": {},
   "source": [
    "We need to know what value to use for $\\alpha$, and we also need to know which words to include in the vocabulary. As mentioned earlier, some words are obvious stopwords. Other words appear so infrequently that they serve as noise, and other words in addition to stopwords appear so frequently that they may also serve as noise."
   ]
  },
  {
   "cell_type": "markdown",
   "metadata": {},
   "source": [
    "First, let's find an appropriate value for `min_df` for the `CountVectorizer`. `min_df` can be either an integer or a float/decimal. If it is an integer, `min_df` represents the minimum number of documents a word must appear in for it to be included in the vocabulary. If it is a float, it represents the minimum *percentage* of documents a word must appear in to be included in the vocabulary. From the documentation:"
   ]
  },
  {
   "cell_type": "markdown",
   "metadata": {},
   "source": [
    ">min_df: When building the vocabulary ignore terms that have a document frequency strictly lower than the given threshold. This value is also called cut-off in the literature. If float, the parameter represents a proportion of documents, integer absolute counts. This parameter is ignored if vocabulary is not None."
   ]
  },
  {
   "cell_type": "markdown",
   "metadata": {},
   "source": [
    "<div class=\"span5 alert alert-info\">\n",
    "<h3>Exercise Set III</h3>\n",
    "\n",
    "<p><b>Exercise:</b> Construct the cumulative distribution of document frequencies (df). The $x$-axis is a document count $x_i$ and the $y$-axis is the percentage of words that appear less than $x_i$ times. For example, at $x=5$, plot a point representing the percentage or number of words that appear in 5 or fewer documents.</p>\n",
    "\n",
    "<p><b>Exercise:</b> Look for the point at which the curve begins climbing steeply. This may be a good value for `min_df`. If we were interested in also picking `max_df`, we would likely pick the value where the curve starts to plateau. What value did you choose?</p>\n",
    "</div>"
   ]
  },
  {
   "cell_type": "code",
   "execution_count": 127,
   "metadata": {},
   "outputs": [
    {
     "data": {
      "text/plain": [
       "freq\n",
       "1    9552\n",
       "2    3486\n",
       "3    1916\n",
       "4    1259\n",
       "5     896\n",
       "dtype: int64"
      ]
     },
     "execution_count": 127,
     "metadata": {},
     "output_type": "execute_result"
    }
   ],
   "source": [
    "doc_freq = pd.DataFrame(X.sum(axis=0).transpose())\n",
    "\n",
    "#doc_freq = pd.DataFrame(((X>0).sum(axis=0).transpose()).A[:,0])\n",
    "doc_freq.reset_index(inplace=True)\n",
    "doc_freq['index'] += 1\n",
    "doc_freq.columns = ['word', 'freq']\n",
    "doc_grps = doc_freq.groupby('freq').size()\n",
    "doc_grps.head()"
   ]
  },
  {
   "cell_type": "code",
   "execution_count": 128,
   "metadata": {},
   "outputs": [
    {
     "data": {
      "text/plain": [
       "(array([ 0.89556962,  0.93037975,  0.94303797,  0.95253165,  0.9556962 ,\n",
       "         0.95886076,  0.96518987,  0.96835443,  0.96835443,  0.97151899,\n",
       "         0.97151899,  0.97468354,  0.97468354,  0.9778481 ,  0.9778481 ,\n",
       "         0.9778481 ,  0.9778481 ,  0.98101266,  0.98101266,  0.98101266,\n",
       "         0.98417722,  0.98417722,  0.98417722,  0.98417722,  0.98417722,\n",
       "         0.98417722,  0.98417722,  0.98417722,  0.98417722,  0.98734177,\n",
       "         0.98734177,  0.98734177,  0.98734177,  0.98734177,  0.98734177,\n",
       "         0.98734177,  0.98734177,  0.98734177,  0.98734177,  0.98734177,\n",
       "         0.98734177,  0.99050633,  0.99050633,  0.99050633,  0.99050633,\n",
       "         0.99050633,  0.99050633,  0.99050633,  0.99050633,  0.99050633,\n",
       "         0.99050633,  0.99050633,  0.99050633,  0.99050633,  0.99050633,\n",
       "         0.99050633,  0.99050633,  0.99050633,  0.99050633,  0.99050633,\n",
       "         0.99050633,  0.99050633,  0.99050633,  0.99367089,  0.99367089,\n",
       "         0.99367089,  0.99367089,  0.99367089,  0.99367089,  0.99367089,\n",
       "         0.99367089,  0.99367089,  0.99367089,  0.99367089,  0.99367089,\n",
       "         0.99367089,  0.99367089,  0.99367089,  0.99367089,  0.99367089,\n",
       "         0.99367089,  0.99367089,  0.99367089,  0.99367089,  0.99367089,\n",
       "         0.99367089,  0.99367089,  0.99367089,  0.99367089,  0.99367089,\n",
       "         0.99367089,  0.99367089,  0.99367089,  0.99367089,  0.99367089,\n",
       "         0.99367089,  0.99367089,  0.99367089,  0.99367089,  0.99367089,\n",
       "         0.99367089,  0.99367089,  0.99367089,  0.99367089,  0.99367089,\n",
       "         0.99367089,  0.99367089,  0.99367089,  0.99367089,  0.99367089,\n",
       "         0.99367089,  0.99367089,  0.99367089,  0.99367089,  0.99367089,\n",
       "         0.99683544,  0.99683544,  0.99683544,  0.99683544,  0.99683544,\n",
       "         0.99683544,  0.99683544,  0.99683544,  0.99683544,  0.99683544,\n",
       "         0.99683544,  0.99683544,  0.99683544,  0.99683544,  0.99683544,\n",
       "         0.99683544,  0.99683544,  0.99683544,  0.99683544,  0.99683544,\n",
       "         0.99683544,  0.99683544,  0.99683544,  0.99683544,  0.99683544,\n",
       "         0.99683544,  0.99683544,  0.99683544,  0.99683544,  0.99683544,\n",
       "         0.99683544,  0.99683544,  0.99683544,  0.99683544,  0.99683544,\n",
       "         0.99683544,  0.99683544,  0.99683544,  0.99683544,  0.99683544,\n",
       "         0.99683544,  0.99683544,  0.99683544,  0.99683544,  0.99683544,\n",
       "         0.99683544,  0.99683544,  0.99683544,  0.99683544,  0.99683544,\n",
       "         0.99683544,  0.99683544,  0.99683544,  0.99683544,  0.99683544,\n",
       "         0.99683544,  0.99683544,  0.99683544,  0.99683544,  0.99683544,\n",
       "         0.99683544,  0.99683544,  0.99683544,  0.99683544,  0.99683544,\n",
       "         0.99683544,  0.99683544,  0.99683544,  0.99683544,  0.99683544,\n",
       "         0.99683544,  0.99683544,  0.99683544,  0.99683544,  0.99683544,\n",
       "         0.99683544,  0.99683544,  0.99683544,  0.99683544,  0.99683544,\n",
       "         0.99683544,  0.99683544,  0.99683544,  0.99683544,  0.99683544,\n",
       "         0.99683544,  0.99683544,  0.99683544,  0.99683544,  0.99683544,\n",
       "         0.99683544,  0.99683544,  0.99683544,  0.99683544,  0.99683544,\n",
       "         0.99683544,  0.99683544,  0.99683544,  0.99683544,  0.99683544,\n",
       "         0.99683544,  0.99683544,  0.99683544,  0.99683544,  0.99683544,\n",
       "         0.99683544,  0.99683544,  0.99683544,  0.99683544,  0.99683544,\n",
       "         0.99683544,  0.99683544,  0.99683544,  0.99683544,  0.99683544,\n",
       "         0.99683544,  0.99683544,  0.99683544,  0.99683544,  0.99683544,\n",
       "         0.99683544,  0.99683544,  0.99683544,  0.99683544,  0.99683544,\n",
       "         0.99683544,  0.99683544,  0.99683544,  0.99683544,  0.99683544,\n",
       "         0.99683544,  0.99683544,  0.99683544,  0.99683544,  0.99683544,\n",
       "         0.99683544,  0.99683544,  0.99683544,  0.99683544,  0.99683544,\n",
       "         0.99683544,  0.99683544,  0.99683544,  0.99683544,  0.99683544,\n",
       "         0.99683544,  0.99683544,  0.99683544,  0.99683544,  0.99683544,\n",
       "         0.99683544,  0.99683544,  0.99683544,  0.99683544,  0.99683544,\n",
       "         0.99683544,  0.99683544,  0.99683544,  0.99683544,  0.99683544,\n",
       "         0.99683544,  0.99683544,  0.99683544,  0.99683544,  0.99683544,\n",
       "         0.99683544,  0.99683544,  0.99683544,  0.99683544,  0.99683544,\n",
       "         0.99683544,  0.99683544,  0.99683544,  0.99683544,  0.99683544,\n",
       "         0.99683544,  0.99683544,  0.99683544,  0.99683544,  0.99683544,\n",
       "         0.99683544,  0.99683544,  0.99683544,  0.99683544,  0.99683544,\n",
       "         0.99683544,  0.99683544,  0.99683544,  0.99683544,  0.99683544,\n",
       "         0.99683544,  0.99683544,  0.99683544,  0.99683544,  0.99683544,\n",
       "         0.99683544,  0.99683544,  0.99683544,  0.99683544,  0.99683544,  1.        ]),\n",
       " array([  1.00000000e+00,   3.12246835e+01,   6.14493671e+01,\n",
       "          9.16740506e+01,   1.21898734e+02,   1.52123418e+02,\n",
       "          1.82348101e+02,   2.12572785e+02,   2.42797468e+02,\n",
       "          2.73022152e+02,   3.03246835e+02,   3.33471519e+02,\n",
       "          3.63696203e+02,   3.93920886e+02,   4.24145570e+02,\n",
       "          4.54370253e+02,   4.84594937e+02,   5.14819620e+02,\n",
       "          5.45044304e+02,   5.75268987e+02,   6.05493671e+02,\n",
       "          6.35718354e+02,   6.65943038e+02,   6.96167722e+02,\n",
       "          7.26392405e+02,   7.56617089e+02,   7.86841772e+02,\n",
       "          8.17066456e+02,   8.47291139e+02,   8.77515823e+02,\n",
       "          9.07740506e+02,   9.37965190e+02,   9.68189873e+02,\n",
       "          9.98414557e+02,   1.02863924e+03,   1.05886392e+03,\n",
       "          1.08908861e+03,   1.11931329e+03,   1.14953797e+03,\n",
       "          1.17976266e+03,   1.20998734e+03,   1.24021203e+03,\n",
       "          1.27043671e+03,   1.30066139e+03,   1.33088608e+03,\n",
       "          1.36111076e+03,   1.39133544e+03,   1.42156013e+03,\n",
       "          1.45178481e+03,   1.48200949e+03,   1.51223418e+03,\n",
       "          1.54245886e+03,   1.57268354e+03,   1.60290823e+03,\n",
       "          1.63313291e+03,   1.66335759e+03,   1.69358228e+03,\n",
       "          1.72380696e+03,   1.75403165e+03,   1.78425633e+03,\n",
       "          1.81448101e+03,   1.84470570e+03,   1.87493038e+03,\n",
       "          1.90515506e+03,   1.93537975e+03,   1.96560443e+03,\n",
       "          1.99582911e+03,   2.02605380e+03,   2.05627848e+03,\n",
       "          2.08650316e+03,   2.11672785e+03,   2.14695253e+03,\n",
       "          2.17717722e+03,   2.20740190e+03,   2.23762658e+03,\n",
       "          2.26785127e+03,   2.29807595e+03,   2.32830063e+03,\n",
       "          2.35852532e+03,   2.38875000e+03,   2.41897468e+03,\n",
       "          2.44919937e+03,   2.47942405e+03,   2.50964873e+03,\n",
       "          2.53987342e+03,   2.57009810e+03,   2.60032278e+03,\n",
       "          2.63054747e+03,   2.66077215e+03,   2.69099684e+03,\n",
       "          2.72122152e+03,   2.75144620e+03,   2.78167089e+03,\n",
       "          2.81189557e+03,   2.84212025e+03,   2.87234494e+03,\n",
       "          2.90256962e+03,   2.93279430e+03,   2.96301899e+03,\n",
       "          2.99324367e+03,   3.02346835e+03,   3.05369304e+03,\n",
       "          3.08391772e+03,   3.11414241e+03,   3.14436709e+03,\n",
       "          3.17459177e+03,   3.20481646e+03,   3.23504114e+03,\n",
       "          3.26526582e+03,   3.29549051e+03,   3.32571519e+03,\n",
       "          3.35593987e+03,   3.38616456e+03,   3.41638924e+03,\n",
       "          3.44661392e+03,   3.47683861e+03,   3.50706329e+03,\n",
       "          3.53728797e+03,   3.56751266e+03,   3.59773734e+03,\n",
       "          3.62796203e+03,   3.65818671e+03,   3.68841139e+03,\n",
       "          3.71863608e+03,   3.74886076e+03,   3.77908544e+03,\n",
       "          3.80931013e+03,   3.83953481e+03,   3.86975949e+03,\n",
       "          3.89998418e+03,   3.93020886e+03,   3.96043354e+03,\n",
       "          3.99065823e+03,   4.02088291e+03,   4.05110759e+03,\n",
       "          4.08133228e+03,   4.11155696e+03,   4.14178165e+03,\n",
       "          4.17200633e+03,   4.20223101e+03,   4.23245570e+03,\n",
       "          4.26268038e+03,   4.29290506e+03,   4.32312975e+03,\n",
       "          4.35335443e+03,   4.38357911e+03,   4.41380380e+03,\n",
       "          4.44402848e+03,   4.47425316e+03,   4.50447785e+03,\n",
       "          4.53470253e+03,   4.56492722e+03,   4.59515190e+03,\n",
       "          4.62537658e+03,   4.65560127e+03,   4.68582595e+03,\n",
       "          4.71605063e+03,   4.74627532e+03,   4.77650000e+03,\n",
       "          4.80672468e+03,   4.83694937e+03,   4.86717405e+03,\n",
       "          4.89739873e+03,   4.92762342e+03,   4.95784810e+03,\n",
       "          4.98807278e+03,   5.01829747e+03,   5.04852215e+03,\n",
       "          5.07874684e+03,   5.10897152e+03,   5.13919620e+03,\n",
       "          5.16942089e+03,   5.19964557e+03,   5.22987025e+03,\n",
       "          5.26009494e+03,   5.29031962e+03,   5.32054430e+03,\n",
       "          5.35076899e+03,   5.38099367e+03,   5.41121835e+03,\n",
       "          5.44144304e+03,   5.47166772e+03,   5.50189241e+03,\n",
       "          5.53211709e+03,   5.56234177e+03,   5.59256646e+03,\n",
       "          5.62279114e+03,   5.65301582e+03,   5.68324051e+03,\n",
       "          5.71346519e+03,   5.74368987e+03,   5.77391456e+03,\n",
       "          5.80413924e+03,   5.83436392e+03,   5.86458861e+03,\n",
       "          5.89481329e+03,   5.92503797e+03,   5.95526266e+03,\n",
       "          5.98548734e+03,   6.01571203e+03,   6.04593671e+03,\n",
       "          6.07616139e+03,   6.10638608e+03,   6.13661076e+03,\n",
       "          6.16683544e+03,   6.19706013e+03,   6.22728481e+03,\n",
       "          6.25750949e+03,   6.28773418e+03,   6.31795886e+03,\n",
       "          6.34818354e+03,   6.37840823e+03,   6.40863291e+03,\n",
       "          6.43885759e+03,   6.46908228e+03,   6.49930696e+03,\n",
       "          6.52953165e+03,   6.55975633e+03,   6.58998101e+03,\n",
       "          6.62020570e+03,   6.65043038e+03,   6.68065506e+03,\n",
       "          6.71087975e+03,   6.74110443e+03,   6.77132911e+03,\n",
       "          6.80155380e+03,   6.83177848e+03,   6.86200316e+03,\n",
       "          6.89222785e+03,   6.92245253e+03,   6.95267722e+03,\n",
       "          6.98290190e+03,   7.01312658e+03,   7.04335127e+03,\n",
       "          7.07357595e+03,   7.10380063e+03,   7.13402532e+03,\n",
       "          7.16425000e+03,   7.19447468e+03,   7.22469937e+03,\n",
       "          7.25492405e+03,   7.28514873e+03,   7.31537342e+03,\n",
       "          7.34559810e+03,   7.37582278e+03,   7.40604747e+03,\n",
       "          7.43627215e+03,   7.46649684e+03,   7.49672152e+03,\n",
       "          7.52694620e+03,   7.55717089e+03,   7.58739557e+03,\n",
       "          7.61762025e+03,   7.64784494e+03,   7.67806962e+03,\n",
       "          7.70829430e+03,   7.73851899e+03,   7.76874367e+03,\n",
       "          7.79896835e+03,   7.82919304e+03,   7.85941772e+03,\n",
       "          7.88964241e+03,   7.91986709e+03,   7.95009177e+03,\n",
       "          7.98031646e+03,   8.01054114e+03,   8.04076582e+03,\n",
       "          8.07099051e+03,   8.10121519e+03,   8.13143987e+03,\n",
       "          8.16166456e+03,   8.19188924e+03,   8.22211392e+03,\n",
       "          8.25233861e+03,   8.28256329e+03,   8.31278797e+03,\n",
       "          8.34301266e+03,   8.37323734e+03,   8.40346203e+03,\n",
       "          8.43368671e+03,   8.46391139e+03,   8.49413608e+03,\n",
       "          8.52436076e+03,   8.55458544e+03,   8.58481013e+03,\n",
       "          8.61503481e+03,   8.64525949e+03,   8.67548418e+03,\n",
       "          8.70570886e+03,   8.73593354e+03,   8.76615823e+03,\n",
       "          8.79638291e+03,   8.82660759e+03,   8.85683228e+03,\n",
       "          8.88705696e+03,   8.91728165e+03,   8.94750633e+03,\n",
       "          8.97773101e+03,   9.00795570e+03,   9.03818038e+03,\n",
       "          9.06840506e+03,   9.09862975e+03,   9.12885443e+03,\n",
       "          9.15907911e+03,   9.18930380e+03,   9.21952848e+03,\n",
       "          9.24975316e+03,   9.27997785e+03,   9.31020253e+03,\n",
       "          9.34042722e+03,   9.37065190e+03,   9.40087658e+03,\n",
       "          9.43110127e+03,   9.46132595e+03,   9.49155063e+03,\n",
       "          9.52177532e+03,   9.55200000e+03]),\n",
       " <a list of 1 Patch objects>)"
      ]
     },
     "execution_count": 128,
     "metadata": {},
     "output_type": "execute_result"
    },
    {
     "name": "stderr",
     "output_type": "stream",
     "text": [
      "c:\\users\\illwil~1\\virtua~1\\capsto~1\\lib\\site-packages\\matplotlib\\figure.py:1999: UserWarning: This figure includes Axes that are not compatible with tight_layout, so results might be incorrect.\n",
      "  warnings.warn(\"This figure includes Axes that are not compatible \"\n"
     ]
    },
    {
     "data": {
      "image/png": "[encoded data removed]",
      "text/plain": [
       "<matplotlib.figure.Figure at 0x107f9b50>"
      ]
     },
     "metadata": {},
     "output_type": "display_data"
    }
   ],
   "source": [
    "fig, axs = plt.subplots(1, figsize=(12,4), tight_layout=True)\n",
    "plt.margins(0.02)\n",
    "plt.hist(doc_grps, bins=len(doc_grps), cumulative=True, normed=True, histtype='step')"
   ]
  },
  {
   "cell_type": "markdown",
   "metadata": {},
   "source": [
    "It appears that 1 word is when the CDF begins to have a very steep slope and would therefore be a good value for `min_df`. Around 31 words is when the CDF plateaus and that would serve as a good value for `max_df`."
   ]
  },
  {
   "cell_type": "markdown",
   "metadata": {},
   "source": [
    "The parameter $\\alpha$ is chosen to be a small value that simply avoids having zeros in the probability computations. This value can sometimes be chosen arbitrarily with domain expertise, but we will use K-fold cross validation. In K-fold cross-validation, we divide the data into $K$ non-overlapping parts. We train on $K-1$ of the folds and test on the remaining fold. We then iterate, so that each fold serves as the test fold exactly once. The function `cv_score` performs the K-fold cross-validation algorithm for us, but we need to pass a function that measures the performance of the algorithm on each fold. "
   ]
  },
  {
   "cell_type": "code",
   "execution_count": 129,
   "metadata": {},
   "outputs": [],
   "source": [
    "from sklearn.model_selection import KFold\n",
    "def cv_score(clf, X, y, scorefunc):\n",
    "    result = 0.\n",
    "    nfold = 5\n",
    "    for train, test in KFold(nfold).split(X): # split data into train/test groups, 5 times\n",
    "        clf.fit(X[train], y[train]) # fit the classifier, passed is as clf.\n",
    "        result += scorefunc(clf, X[test], y[test]) # evaluate score function on held-out data\n",
    "    return result / nfold # average"
   ]
  },
  {
   "cell_type": "markdown",
   "metadata": {},
   "source": [
    "We use the log-likelihood as the score here in `scorefunc`. The higher the log-likelihood, the better. Indeed, what we do in `cv_score` above is to implement the cross-validation part of `GridSearchCV`.\n",
    "\n",
    "The custom scoring function `scorefunc` allows us to use different metrics depending on the decision risk we care about (precision, accuracy, profit etc.) directly on the validation set. You will often find people using `roc_auc`, precision, recall, or `F1-score` as the scoring function."
   ]
  },
  {
   "cell_type": "code",
   "execution_count": 130,
   "metadata": {},
   "outputs": [],
   "source": [
    "def log_likelihood(clf, x, y):\n",
    "    prob = clf.predict_log_proba(x)\n",
    "    rotten = y == 0\n",
    "    fresh = ~rotten\n",
    "    return prob[rotten, 0].sum() + prob[fresh, 1].sum()"
   ]
  },
  {
   "cell_type": "markdown",
   "metadata": {},
   "source": [
    "We'll cross-validate over the regularization parameter $\\alpha$."
   ]
  },
  {
   "cell_type": "markdown",
   "metadata": {},
   "source": [
    "Let's set up the train and test masks first, and then we can run the cross-validation procedure."
   ]
  },
  {
   "cell_type": "code",
   "execution_count": 131,
   "metadata": {},
   "outputs": [],
   "source": [
    "from sklearn.model_selection import train_test_split\n",
    "_, itest = train_test_split(range(critics.shape[0]), test_size=0.3)\n",
    "mask = np.zeros(critics.shape[0], dtype=np.bool)\n",
    "mask[itest] = True"
   ]
  },
  {
   "cell_type": "markdown",
   "metadata": {},
   "source": [
    "<div class=\"span5 alert alert-info\">\n",
    "<h3>Exercise Set IV</h3>\n",
    "\n",
    "<p><b>Exercise:</b> What does using the function `log_likelihood` as the score mean? What are we trying to optimize for?</p>\n",
    "\n",
    "<p><b>Exercise:</b> Without writing any code, what do you think would happen if you choose a value of $\\alpha$ that is too high?</p>\n",
    "\n",
    "<p><b>Exercise:</b> Using the skeleton code below, find the best values of the parameter `alpha`, and use the value of `min_df` you chose in the previous exercise set. Use the `cv_score` function above with the `log_likelihood` function for scoring.</p>\n",
    "</div>"
   ]
  },
  {
   "cell_type": "markdown",
   "metadata": {},
   "source": [
    "It means that we are trying to maximize the log of the likelihood function. "
   ]
  },
  {
   "cell_type": "markdown",
   "metadata": {},
   "source": [
    "Choosing an $\\alpha$ value that is too high may skew the weights on features. It may give higher probabilities for words than reality and negatively affect accuracy."
   ]
  },
  {
   "cell_type": "code",
   "execution_count": 158,
   "metadata": {},
   "outputs": [],
   "source": [
    "from sklearn.naive_bayes import MultinomialNB\n",
    "\n",
    "#the grid of parameters to search over\n",
    "alphas = [.1, 1, 5, 10, 50]\n",
    "min_dfs = [0.000001, 0.0001,0.001,1]\n",
    "best_min_df = None # YOUR TURN: put your value of min_df here.\n",
    "\n",
    "#Find the best value for alpha and min_df, and the best classifier\n",
    "best_alpha = None\n",
    "maxscore=-np.inf\n",
    "for alpha in alphas:   \n",
    "    for min_df in min_dfs:     \n",
    "        vectorizer = CountVectorizer(min_df=min_df)       \n",
    "        Xthis, ythis = make_xy(critics, vectorizer)\n",
    "        Xtrainthis = Xthis[mask]\n",
    "        ytrainthis = ythis[mask]\n",
    "        # your turn\n",
    "        clf = MultinomialNB(alpha=alpha)\n",
    "        cvscore = cv_score(clf, Xtrainthis, ytrainthis, log_likelihood)\n",
    "        if cvscore > maxscore:\n",
    "            maxscore = cvscore\n",
    "            best_alpha, best_min_df = alpha, min_df"
   ]
  },
  {
   "cell_type": "code",
   "execution_count": 159,
   "metadata": {},
   "outputs": [
    {
     "name": "stdout",
     "output_type": "stream",
     "text": [
      "alpha: 5.000000\n",
      "min_df: 0.001000\n"
     ]
    }
   ],
   "source": [
    "print(\"alpha: %f\" % best_alpha)\n",
    "print(\"min_df: %f\" % best_min_df)"
   ]
  },
  {
   "cell_type": "markdown",
   "metadata": {},
   "source": [
    "<div class=\"span5 alert alert-info\">\n",
    "<h3>Exercise Set V: Working with the Best Parameters</h3>\n",
    "\n",
    "<p><b>Exercise:</b> Using the best value of  `alpha` you just found, calculate the accuracy on the training and test sets. Is this classifier better? Why (not)?</p>\n",
    "\n",
    "</div>"
   ]
  },
  {
   "cell_type": "code",
   "execution_count": 160,
   "metadata": {},
   "outputs": [
    {
     "name": "stdout",
     "output_type": "stream",
     "text": [
      "Accuracy on training data: 0.801885\n",
      "Accuracy on test data:     0.720804\n"
     ]
    }
   ],
   "source": [
    "vectorizer = CountVectorizer(min_df=best_min_df)\n",
    "X, y = make_xy(critics, vectorizer)\n",
    "xtrain=X[mask]\n",
    "ytrain=y[mask]\n",
    "xtest=X[~mask]\n",
    "ytest=y[~mask]\n",
    "\n",
    "clf = MultinomialNB(alpha=best_alpha).fit(xtrain, ytrain)\n",
    "\n",
    "#your turn. Print the accuracy on the test and training dataset\n",
    "training_accuracy = clf.score(xtrain, ytrain)\n",
    "test_accuracy = clf.score(xtest, ytest)\n",
    "\n",
    "print(\"Accuracy on training data: {:2f}\".format(training_accuracy))\n",
    "print(\"Accuracy on test data:     {:2f}\".format(test_accuracy))"
   ]
  },
  {
   "cell_type": "code",
   "execution_count": 161,
   "metadata": {},
   "outputs": [
    {
     "name": "stdout",
     "output_type": "stream",
     "text": [
      "[[2038 2218]\n",
      " [ 823 5813]]\n"
     ]
    }
   ],
   "source": [
    "from sklearn.metrics import confusion_matrix\n",
    "print(confusion_matrix(ytest, clf.predict(xtest)))"
   ]
  },
  {
   "cell_type": "markdown",
   "metadata": {},
   "source": [
    "The accuracy has decreased with the `best_alpha` value for $\\alpha$. The $\\alpha$ value is too high and has given higher probabilities to insignificant words"
   ]
  },
  {
   "cell_type": "markdown",
   "metadata": {},
   "source": [
    "## Interpretation"
   ]
  },
  {
   "cell_type": "markdown",
   "metadata": {},
   "source": [
    "### What are the strongly predictive features?\n",
    "\n",
    "We use a neat trick to identify strongly predictive features (i.e. words). \n",
    "\n",
    "* first, create a data set such that each row has exactly one feature. This is represented by the identity matrix.\n",
    "* use the trained classifier to make predictions on this matrix\n",
    "* sort the rows by predicted probabilities, and pick the top and bottom $K$ rows"
   ]
  },
  {
   "cell_type": "code",
   "execution_count": 162,
   "metadata": {},
   "outputs": [
    {
     "name": "stdout",
     "output_type": "stream",
     "text": [
      "Good words\t     P(fresh | word)\n",
      "         performance 0.87\n",
      "        entertaining 0.86\n",
      "                rare 0.84\n",
      "          remarkable 0.84\n",
      "            powerful 0.82\n",
      "         masterpiece 0.82\n",
      "              highly 0.81\n",
      "                fine 0.81\n",
      "              lively 0.81\n",
      "            funniest 0.81\n",
      "Bad words\t     P(fresh | word)\n",
      "           pointless 0.29\n",
      "          uninspired 0.29\n",
      "              boring 0.29\n",
      "       unfortunately 0.28\n",
      "         predictable 0.27\n",
      "              remake 0.27\n",
      "                lame 0.27\n",
      "             problem 0.25\n",
      "               bland 0.23\n",
      "               fails 0.21\n"
     ]
    }
   ],
   "source": [
    "words = np.array(vectorizer.get_feature_names())\n",
    "\n",
    "x = np.eye(xtest.shape[1])\n",
    "probs = clf.predict_log_proba(x)[:, 0]\n",
    "ind = np.argsort(probs)\n",
    "\n",
    "good_words = words[ind[:10]]\n",
    "bad_words = words[ind[-10:]]\n",
    "\n",
    "good_prob = probs[ind[:10]]\n",
    "bad_prob = probs[ind[-10:]]\n",
    "\n",
    "print(\"Good words\\t     P(fresh | word)\")\n",
    "for w, p in zip(good_words, good_prob):\n",
    "    print(\"{:>20}\".format(w), \"{:.2f}\".format(1 - np.exp(p)))\n",
    "    \n",
    "print(\"Bad words\\t     P(fresh | word)\")\n",
    "for w, p in zip(bad_words, bad_prob):\n",
    "    print(\"{:>20}\".format(w), \"{:.2f}\".format(1 - np.exp(p)))"
   ]
  },
  {
   "cell_type": "markdown",
   "metadata": {},
   "source": [
    "<div class=\"span5 alert alert-info\">\n",
    "<h3>Exercise Set VI</h3>\n",
    "\n",
    "<p><b>Exercise:</b> Why does this method work? What does the probability for each row in the identity matrix represent</p>\n",
    "\n",
    "</div>"
   ]
  },
  {
   "cell_type": "markdown",
   "metadata": {},
   "source": [
    "This method essentially builds single word reviews and determines probability of the review being `fresh` or `rotten`. It works by focusing on a single feature at a time instead of several features at once."
   ]
  },
  {
   "cell_type": "markdown",
   "metadata": {},
   "source": [
    "The above exercise is an example of *feature selection*. There are many other feature selection methods. A list of feature selection methods available in `sklearn` is [here](http://scikit-learn.org/stable/modules/classes.html#module-sklearn.feature_selection). The most common feature selection technique for text mining is the chi-squared $\\left( \\chi^2 \\right)$ [method](http://nlp.stanford.edu/IR-book/html/htmledition/feature-selectionchi2-feature-selection-1.html)."
   ]
  },
  {
   "cell_type": "markdown",
   "metadata": {},
   "source": [
    "### Prediction Errors\n",
    "\n",
    "We can see mis-predictions as well."
   ]
  },
  {
   "cell_type": "code",
   "execution_count": 137,
   "metadata": {},
   "outputs": [
    {
     "name": "stdout",
     "output_type": "stream",
     "text": [
      "Mis-predicted Rotten quotes\n",
      "---------------------------\n",
      "The only saving graces are Davis's stripped-down, mean-as-a-wildcat portrayal of the Uzi-toting Charly, and Jackson's engagingly ineffectual turn.\n",
      "\n",
      "The spirited cast of Jamie Lee Curtis, Kevin Kline and Monty Pythonites John Cleese and Michael Palin is willing. But this tossed-together trifle about an unassuming British zoo taken over by a money-mad Murdochian media mogul is weak.\n",
      "\n",
      "I'll let you in on a little secret that film critics have known for years. A major studio production, released in August with top-list stars, is almost certain to be a gobbler.\n",
      "\n",
      "Farley, a real lightweight compared to such late, great predecessors John Belushi and John Candy, brings none of Belushi's edgy intelligence, nor Candy's gentle pathos to this comic caricature.\n",
      "\n",
      "Actor Matthew Broderick feature directorial debut is a stagnantly flawed, listless account of Richard Feyman, the brilliant American-Jewish scientist; it doesn't help that Patricia Arquette is miscast as his wife.\n",
      "\n",
      "Mis-predicted Fresh quotes\n",
      "--------------------------\n",
      "There's a lot more to Nowhere in Africa -- too much, actually ... Yet even if the movie has at least one act too many, the question that runs through it -- of whether belonging to a place is a matter of time or of will -- remains consistent.\n",
      "\n",
      "This first sequel to Planet of the Apes isn't bad, but already shows the way the original conception was to degenerate into routine comic strip adventure.\n",
      "\n",
      "Considering the recent screen standards in book musicals with five numbers for 100 to 110 minutes of running time this Metro Santaclausing of numbers becomes virtually a double-feature filmusical.\n",
      "\n",
      "The unconvincing genre conventions in Gone Baby Gone are at odds with its authentic, lived-in atmosphere, but no one can say that Affleck hasn't looked into the depths, and the movie ends on a resonantly ambiguous note.\n",
      "\n",
      "The fence-straddling would be fatal if it weren't for Posey, who takes what's essentially a character sketch and turns it into a three-dimensional mess in a dress.\n",
      "\n"
     ]
    }
   ],
   "source": [
    "x, y = make_xy(critics, vectorizer)\n",
    "\n",
    "prob = clf.predict_proba(x)[:, 0]\n",
    "predict = clf.predict(x)\n",
    "\n",
    "bad_rotten = np.argsort(prob[y == 0])[:5]\n",
    "bad_fresh = np.argsort(prob[y == 1])[-5:]\n",
    "\n",
    "print(\"Mis-predicted Rotten quotes\")\n",
    "print('---------------------------')\n",
    "for row in bad_rotten:\n",
    "    print(critics[y == 0].quote.iloc[row])\n",
    "    print(\"\")\n",
    "\n",
    "print(\"Mis-predicted Fresh quotes\")\n",
    "print('--------------------------')\n",
    "for row in bad_fresh:\n",
    "    print(critics[y == 1].quote.iloc[row])\n",
    "    print(\"\")"
   ]
  },
  {
   "cell_type": "markdown",
   "metadata": {},
   "source": [
    "<div class=\"span5 alert alert-info\">\n",
    "<h3>Exercise Set VII: Predicting the Freshness for a New Review</h3>\n",
    "<br/>\n",
    "<div>\n",
    "<b>Exercise:</b>\n",
    "<ul>\n",
    "<li> Using your best trained classifier, predict the freshness of the following sentence: *'This movie is not remarkable, touching, or superb in any way'*\n",
    "<li> Is the result what you'd expect? Why (not)?\n",
    "</ul>\n",
    "</div>\n",
    "</div>"
   ]
  },
  {
   "cell_type": "code",
   "execution_count": 141,
   "metadata": {},
   "outputs": [
    {
     "data": {
      "text/plain": [
       "array([1])"
      ]
     },
     "execution_count": 141,
     "metadata": {},
     "output_type": "execute_result"
    }
   ],
   "source": [
    "X = vectorizer.transform(['This movie is not remarkable, touching, or superb in any way'])\n",
    "X = X.toarray()\n",
    "clf.predict(X)"
   ]
  },
  {
   "cell_type": "code",
   "execution_count": 143,
   "metadata": {},
   "outputs": [
    {
     "data": {
      "text/plain": [
       "array([[  5.19884646e-02,   9.99480115e+01]])"
      ]
     },
     "execution_count": 143,
     "metadata": {},
     "output_type": "execute_result"
    }
   ],
   "source": [
    "clf.predict_proba(X) * 100"
   ]
  },
  {
   "cell_type": "markdown",
   "metadata": {},
   "source": [
    "The review `This movi is not remarkable, touching, or superb in any way` was predicted to be `fresh` with a probability of `99.9%`\n",
    "\n",
    "It is not the expected result because the prediction is wrong. On the other hand, our classifier was not trained by n-grams and does not know how to account for the use of `not` to negate words."
   ]
  },
  {
   "cell_type": "markdown",
   "metadata": {},
   "source": [
    "### Aside: TF-IDF Weighting for Term Importance\n",
    "\n",
    "TF-IDF stands for \n",
    "\n",
    "`Term-Frequency X Inverse Document Frequency`.\n",
    "\n",
    "In the standard `CountVectorizer` model above, we used just the term frequency in a document of words in our vocabulary. In TF-IDF, we weight this term frequency by the inverse of its popularity in all documents. For example, if the word \"movie\" showed up in all the documents, it would not have much predictive value. It could actually be considered a stopword. By weighing its counts by 1 divided by its overall frequency, we downweight it. We can then use this TF-IDF weighted features as inputs to any classifier. **TF-IDF is essentially a measure of term importance, and of how discriminative a word is in a corpus.** There are a variety of nuances involved in computing TF-IDF, mainly involving where to add the smoothing term to avoid division by 0, or log of 0 errors. The formula for TF-IDF in `scikit-learn` differs from that of most textbooks: \n",
    "\n",
    "$$\\mbox{TF-IDF}(t, d) = \\mbox{TF}(t, d)\\times \\mbox{IDF}(t) = n_{td} \\log{\\left( \\frac{\\vert D \\vert}{\\vert d : t \\in d \\vert} + 1 \\right)}$$\n",
    "\n",
    "where $n_{td}$ is the number of times term $t$ occurs in document $d$, $\\vert D \\vert$ is the number of documents, and $\\vert d : t \\in d \\vert$ is the number of documents that contain $t$"
   ]
  },
  {
   "cell_type": "code",
   "execution_count": 101,
   "metadata": {},
   "outputs": [],
   "source": [
    "# http://scikit-learn.org/dev/modules/feature_extraction.html#text-feature-extraction\n",
    "# http://scikit-learn.org/dev/modules/classes.html#text-feature-extraction-ref\n",
    "from sklearn.feature_extraction.text import TfidfVectorizer\n",
    "tfidfvectorizer = TfidfVectorizer(min_df=1, stop_words='english')\n",
    "Xtfidf=tfidfvectorizer.fit_transform(critics.quote)"
   ]
  },
  {
   "cell_type": "markdown",
   "metadata": {},
   "source": [
    "<div class=\"span5 alert alert-info\">\n",
    "<h3>Exercise Set VIII: Enrichment</h3>\n",
    "\n",
    "<p>\n",
    "There are several additional things we could try. Try some of these as exercises:\n",
    "<ol>\n",
    "<li> Build a Naive Bayes model where the features are n-grams instead of words. N-grams are phrases containing n words next to each other: a bigram contains 2 words, a trigram contains 3 words, and 6-gram contains 6 words. This is useful because \"not good\" and \"so good\" mean very different things. On the other hand, as n increases, the model does not scale well since the feature set becomes more sparse.\n",
    "<li> Try a model besides Naive Bayes, one that would allow for interactions between words -- for example, a Random Forest classifier.\n",
    "<li> Try adding supplemental features -- information about genre, director, cast, etc.\n",
    "<li> Use word2vec or [Latent Dirichlet Allocation](https://en.wikipedia.org/wiki/Latent_Dirichlet_allocation) to group words into topics and use those topics for prediction.\n",
    "<li> Use TF-IDF weighting instead of word counts.\n",
    "</ol>\n",
    "</p>\n",
    "\n",
    "<b>Exercise:</b> Try a few of these ideas to improve the model (or any other ideas of your own). Implement here and report on the result.\n",
    "</div>"
   ]
  },
  {
   "cell_type": "markdown",
   "metadata": {},
   "source": [
    "Varying n_grams did not have a significant affect in the prediction scores for our `MultinomialNB` classifier."
   ]
  },
  {
   "cell_type": "code",
   "execution_count": 164,
   "metadata": {},
   "outputs": [],
   "source": [
    "#the grid of parameters to search over\n",
    "alphas = [.1, 1, 5, 10, 50]\n",
    "min_dfs = [0.000001, 0.0001,0.001,1]\n",
    "best_min_df = None # YOUR TURN: put your value of min_df here.\n",
    "\n",
    "#Find the best value for alpha and min_df, and the best classifier\n",
    "best_alpha = None\n",
    "maxscore=-np.inf\n",
    "for gram in range(1,4):\n",
    "    for alpha in alphas:   \n",
    "        for min_df in min_dfs:     \n",
    "            vectorizer = CountVectorizer(min_df=min_df, ngram_range=(1,gram))       \n",
    "            Xthis, ythis = make_xy(critics, vectorizer)\n",
    "            Xtrainthis = Xthis[mask]\n",
    "            ytrainthis = ythis[mask]\n",
    "            # your turn\n",
    "            clf = MultinomialNB(alpha=alpha)\n",
    "            cvscore = cv_score(clf, Xtrainthis, ytrainthis, log_likelihood)\n",
    "            if cvscore > maxscore:\n",
    "                maxscore = cvscore\n",
    "                best_alpha, best_min_df, best_ngram = alpha, min_df, gram"
   ]
  },
  {
   "cell_type": "code",
   "execution_count": 165,
   "metadata": {},
   "outputs": [
    {
     "name": "stdout",
     "output_type": "stream",
     "text": [
      "alpha: 5.000000\n",
      "min_df: 0.001000\n",
      "n_gram: 1.000000\n"
     ]
    }
   ],
   "source": [
    "print(\"alpha: %f\" % best_alpha)\n",
    "print(\"min_df: %f\" % best_min_df)\n",
    "print(\"n_gram: %f\" % best_ngram)"
   ]
  },
  {
   "cell_type": "code",
   "execution_count": 173,
   "metadata": {},
   "outputs": [
    {
     "name": "stdout",
     "output_type": "stream",
     "text": [
      "Accuracy on training data: 0.801885\n",
      "Accuracy on test data:     0.720804\n"
     ]
    }
   ],
   "source": [
    "vectorizer = CountVectorizer(min_df=best_min_df, ngram_range = (1,best_ngram))\n",
    "X, y = make_xy(critics, vectorizer)\n",
    "xtrain=X[mask]\n",
    "ytrain=y[mask]\n",
    "xtest=X[~mask]\n",
    "ytest=y[~mask]\n",
    "\n",
    "clf = MultinomialNB(alpha=best_alpha).fit(xtrain, ytrain)\n",
    "\n",
    "#your turn. Print the accuracy on the test and training dataset\n",
    "training_accuracy = clf.score(xtrain, ytrain)\n",
    "test_accuracy = clf.score(xtest, ytest)\n",
    "\n",
    "print(\"Accuracy on training data: {:2f}\".format(training_accuracy))\n",
    "print(\"Accuracy on test data:     {:2f}\".format(test_accuracy))"
   ]
  },
  {
   "cell_type": "code",
   "execution_count": 186,
   "metadata": {},
   "outputs": [],
   "source": [
    "from sklearn.ensemble import RandomForestClassifier\n",
    "from sklearn.model_selection import GridSearchCV"
   ]
  },
  {
   "cell_type": "markdown",
   "metadata": {},
   "source": [
    "The Random Forest classifier did not perform as well as the MultinomailNB classifier based on prediction scores. It is possible that the performance could improve with additional time and resources to dive deeper into hyper tuning parameters"
   ]
  },
  {
   "cell_type": "code",
   "execution_count": 199,
   "metadata": {},
   "outputs": [
    {
     "name": "stdout",
     "output_type": "stream",
     "text": [
      "min_df: 1e-06\n",
      "n_grams: 3\n",
      "best estimator: RandomForestClassifier(bootstrap=True, class_weight=None, criterion='gini',\n",
      "            max_depth=None, max_features='log2', max_leaf_nodes=None,\n",
      "            min_impurity_decrease=0.0, min_impurity_split=None,\n",
      "            min_samples_leaf=1, min_samples_split=2,\n",
      "            min_weight_fraction_leaf=0.0, n_estimators=50, n_jobs=1,\n",
      "            oob_score=False, random_state=None, verbose=0,\n",
      "            warm_start=False)\n",
      "best params: {'max_features': 'log2', 'n_estimators': 50}\n",
      "best score: 0.650888841294\n",
      "grid scores: {'mean_fit_time': array([  6.88439377,  13.75512004,  34.57764435,  68.11489598,\n",
      "         6.93306327,  13.60211134,  34.24695865,  68.41057936,\n",
      "         7.26541551,  15.08119583,  37.30113347,  75.06429346]), 'std_fit_time': array([ 0.23558955,  0.23408221,  0.3384987 ,  0.64923508,  0.05802253,\n",
      "        0.24945278,  0.55794646,  1.16364264,  0.16346155,  0.62708465,\n",
      "        1.32718038,  1.8103781 ]), 'mean_score_time': array([ 0.03766878,  0.07033738,  0.17367665,  0.34768645,  0.03633539,\n",
      "        0.07167093,  0.18401059,  0.34868662,  0.07467103,  0.14100814,\n",
      "        0.35235357,  0.68770599]), 'std_score_time': array([ 0.00047143,  0.00169977,  0.00235708,  0.00953413,  0.0004716 ,\n",
      "        0.00235725,  0.01790819,  0.00573534,  0.00124732,  0.00637743,\n",
      "        0.00579326,  0.0188042 ]), 'param_max_features': masked_array(data = ['auto' 'auto' 'auto' 'auto' 'sqrt' 'sqrt' 'sqrt' 'sqrt' 'log2' 'log2'\n",
      " 'log2' 'log2'],\n",
      "             mask = [False False False False False False False False False False False False],\n",
      "       fill_value = ?)\n",
      ", 'param_n_estimators': masked_array(data = [10 20 50 100 10 20 50 100 10 20 50 100],\n",
      "             mask = [False False False False False False False False False False False False],\n",
      "       fill_value = ?)\n",
      ", 'params': [{'max_features': 'auto', 'n_estimators': 10}, {'max_features': 'auto', 'n_estimators': 20}, {'max_features': 'auto', 'n_estimators': 50}, {'max_features': 'auto', 'n_estimators': 100}, {'max_features': 'sqrt', 'n_estimators': 10}, {'max_features': 'sqrt', 'n_estimators': 20}, {'max_features': 'sqrt', 'n_estimators': 50}, {'max_features': 'sqrt', 'n_estimators': 100}, {'max_features': 'log2', 'n_estimators': 10}, {'max_features': 'log2', 'n_estimators': 20}, {'max_features': 'log2', 'n_estimators': 50}, {'max_features': 'log2', 'n_estimators': 100}], 'split0_test_score': array([ 0.65703276,  0.6416185 ,  0.63712267,  0.62556198,  0.62941554,\n",
      "        0.64611432,  0.63198459,  0.63198459,  0.61592807,  0.63969171,\n",
      "        0.65446371,  0.64033398]), 'split1_test_score': array([ 0.63776493,  0.64226076,  0.64354528,  0.63198459,  0.63391137,\n",
      "        0.65061015,  0.64226076,  0.64097624,  0.61592807,  0.6416185 ,\n",
      "        0.64996789,  0.64547206]), 'split2_test_score': array([ 0.63472669,  0.63858521,  0.63601286,  0.62765273,  0.65080386,\n",
      "        0.6392283 ,  0.6437299 ,  0.63279743,  0.62379421,  0.63987138,\n",
      "        0.64823151,  0.65401929]), 'mean_test_score': array([ 0.64317841,  0.64082245,  0.63889484,  0.62840009,  0.63803812,\n",
      "        0.6453202 ,  0.6393232 ,  0.6352538 ,  0.61854787,  0.64039409,\n",
      "        0.65088884,  0.64660527]), 'std_test_score': array([ 0.00987782,  0.00160255,  0.00332046,  0.00267523,  0.00920584,\n",
      "        0.00467996,  0.00522538,  0.00406125,  0.00370734,  0.00086917,\n",
      "        0.00262609,  0.00564362]), 'rank_test_score': array([ 4,  5,  8, 11,  9,  3,  7, 10, 12,  6,  1,  2], dtype=int32), 'split0_train_score': array([ 0.98811054,  0.99550129,  1.        ,  1.        ,  0.98907455,\n",
      "        0.99807198,  1.        ,  1.        ,  0.99293059,  0.99967866,\n",
      "        1.        ,  1.        ]), 'split1_train_score': array([ 0.99132391,  0.99678663,  1.        ,  1.        ,  0.98843188,\n",
      "        0.99839332,  0.99967866,  1.        ,  0.9938946 ,  0.99935733,\n",
      "        1.        ,  1.        ]), 'split2_train_score': array([ 0.98876044,  0.99743096,  0.99967887,  1.        ,  0.98554913,\n",
      "        0.99614644,  1.        ,  1.        ,  0.99068722,  0.99935774,\n",
      "        1.        ,  1.        ]), 'mean_train_score': array([ 0.98939829,  0.99657296,  0.99989296,  1.        ,  0.98768519,\n",
      "        0.99753724,  0.99989289,  1.        ,  0.99250414,  0.99946458,\n",
      "        1.        ,  1.        ]), 'std_train_score': array([ 0.00138722,  0.00080214,  0.00015138,  0.        ,  0.00153304,\n",
      "        0.00099216,  0.00015148,  0.        ,  0.00134368,  0.00015138,\n",
      "        0.        ,  0.        ])}\n",
      "min_df: 0.0001\n",
      "n_grams: 3\n",
      "best estimator: RandomForestClassifier(bootstrap=True, class_weight=None, criterion='gini',\n",
      "            max_depth=None, max_features='log2', max_leaf_nodes=None,\n",
      "            min_impurity_decrease=0.0, min_impurity_split=None,\n",
      "            min_samples_leaf=1, min_samples_split=2,\n",
      "            min_weight_fraction_leaf=0.0, n_estimators=100, n_jobs=1,\n",
      "            oob_score=False, random_state=None, verbose=0,\n",
      "            warm_start=False)\n",
      "best params: {'max_features': 'log2', 'n_estimators': 100}\n",
      "best score: 0.675947740416\n",
      "grid scores: {'mean_fit_time': array([  2.40747102,   4.83460983,  11.801675  ,  23.75002519,\n",
      "         2.3768026 ,   4.76027226,  11.9763515 ,  23.60234992,\n",
      "         2.88616522,   5.8229998 ,  14.46982765,  28.79864717]), 'std_fit_time': array([ 0.01438448,  0.11131459,  0.14357938,  0.32007687,  0.02624799,\n",
      "        0.06050703,  0.12018833,  0.19689872,  0.02743639,  0.11172428,\n",
      "        0.26422827,  0.71757167]), 'mean_score_time': array([ 0.02100134,  0.03966888,  0.09233856,  0.18901078,  0.02066779,\n",
      "        0.03800209,  0.0930055 ,  0.18101033,  0.0390021 ,  0.07633758,\n",
      "        0.18267711,  0.3696878 ]), 'std_score_time': array([ 0.00081663,  0.00124715,  0.00262484,  0.00374187,  0.00094291,\n",
      "        0.00081663,  0.00355921,  0.00778928,  0.00081653,  0.00385885,\n",
      "        0.00478447,  0.01114616]), 'param_max_features': masked_array(data = ['auto' 'auto' 'auto' 'auto' 'sqrt' 'sqrt' 'sqrt' 'sqrt' 'log2' 'log2'\n",
      " 'log2' 'log2'],\n",
      "             mask = [False False False False False False False False False False False False],\n",
      "       fill_value = ?)\n",
      ", 'param_n_estimators': masked_array(data = [10 20 50 100 10 20 50 100 10 20 50 100],\n",
      "             mask = [False False False False False False False False False False False False],\n",
      "       fill_value = ?)\n",
      ", 'params': [{'max_features': 'auto', 'n_estimators': 10}, {'max_features': 'auto', 'n_estimators': 20}, {'max_features': 'auto', 'n_estimators': 50}, {'max_features': 'auto', 'n_estimators': 100}, {'max_features': 'sqrt', 'n_estimators': 10}, {'max_features': 'sqrt', 'n_estimators': 20}, {'max_features': 'sqrt', 'n_estimators': 50}, {'max_features': 'sqrt', 'n_estimators': 100}, {'max_features': 'log2', 'n_estimators': 10}, {'max_features': 'log2', 'n_estimators': 20}, {'max_features': 'log2', 'n_estimators': 50}, {'max_features': 'log2', 'n_estimators': 100}], 'split0_test_score': array([ 0.64611432,  0.65317919,  0.65125241,  0.63840719,  0.6448298 ,\n",
      "        0.65574823,  0.65189467,  0.64932563,  0.64033398,  0.65639049,\n",
      "        0.67244701,  0.67244701]), 'split1_test_score': array([ 0.66923571,  0.66859345,  0.67052023,  0.67244701,  0.6596018 ,\n",
      "        0.66345536,  0.67180475,  0.65831728,  0.63712267,  0.66666667,\n",
      "        0.68208092,  0.68208092]), 'split2_test_score': array([ 0.63665595,  0.64823151,  0.64051447,  0.64694534,  0.61607717,\n",
      "        0.64115756,  0.64308682,  0.64115756,  0.60192926,  0.64180064,\n",
      "        0.65787781,  0.6733119 ]), 'mean_test_score': array([ 0.65067466,  0.65667166,  0.65410152,  0.65260227,  0.64017991,\n",
      "        0.65345898,  0.65560077,  0.64960377,  0.62647248,  0.65495824,\n",
      "        0.67080745,  0.67594774]), 'std_test_score': array([ 0.0136848 ,  0.00867117,  0.01241317,  0.01446309,  0.01806882,\n",
      "        0.00924498,  0.01201232,  0.00700744,  0.01739303,  0.01020085,\n",
      "        0.00994765,  0.00435255]), 'rank_test_score': array([ 9,  3,  6,  8, 11,  7,  4, 10, 12,  5,  2,  1], dtype=int32), 'split0_train_score': array([ 0.99132391,  0.99678663,  1.        ,  1.        ,  0.98939589,\n",
      "        0.99742931,  1.        ,  1.        ,  0.99550129,  0.99903599,\n",
      "        1.        ,  1.        ]), 'split1_train_score': array([ 0.98714653,  0.99582262,  1.        ,  1.        ,  0.99003856,\n",
      "        0.99775064,  1.        ,  1.        ,  0.99068123,  0.99871465,\n",
      "        1.        ,  1.        ]), 'split2_train_score': array([ 0.98972383,  0.9967887 ,  1.        ,  1.        ,  0.98619139,\n",
      "        0.99710983,  0.99967887,  1.        ,  0.99100835,  0.99935774,\n",
      "        1.        ,  1.        ]), 'mean_train_score': array([ 0.98939809,  0.99646598,  1.        ,  1.        ,  0.98854195,\n",
      "        0.99742993,  0.99989296,  1.        ,  0.99239696,  0.99903613,\n",
      "        1.        ,  1.        ]), 'std_train_score': array([ 0.00172089,  0.00045493,  0.        ,  0.        ,  0.00168267,\n",
      "        0.00026161,  0.00015138,  0.        ,  0.00219915,  0.00026254,\n",
      "        0.        ,  0.        ])}\n"
     ]
    },
    {
     "name": "stdout",
     "output_type": "stream",
     "text": [
      "min_df: 0.001\n",
      "n_grams: 3\n",
      "best estimator: RandomForestClassifier(bootstrap=True, class_weight=None, criterion='gini',\n",
      "            max_depth=None, max_features='log2', max_leaf_nodes=None,\n",
      "            min_impurity_decrease=0.0, min_impurity_split=None,\n",
      "            min_samples_leaf=1, min_samples_split=2,\n",
      "            min_weight_fraction_leaf=0.0, n_estimators=50, n_jobs=1,\n",
      "            oob_score=False, random_state=None, verbose=0,\n",
      "            warm_start=False)\n",
      "best params: {'max_features': 'log2', 'n_estimators': 50}\n",
      "best score: 0.682373099165\n",
      "grid scores: {'mean_fit_time': array([ 0.39635595,  0.78804509,  2.03344965,  3.95255947,  0.39968959,\n",
      "        0.77904447,  2.01344856,  3.89522282,  0.32135169,  0.65137053,\n",
      "        1.61142556,  3.24051865]), 'std_fit_time': array([ 0.00987749,  0.02192544,  0.13979425,  0.09142872,  0.01506374,\n",
      "        0.03494007,  0.03630027,  0.06304326,  0.00464308,  0.00449736,\n",
      "        0.06081114,  0.08861038]), 'mean_score_time': array([ 0.01300065,  0.02300111,  0.05466978,  0.10633938,  0.01233395,\n",
      "        0.02233466,  0.05300299,  0.10433928,  0.01566752,  0.03000172,\n",
      "        0.07167069,  0.14200823]), 'std_score_time': array([  1.12391596e-07,   1.12391596e-07,   9.42628316e-04,\n",
      "         2.49468227e-03,   4.71482786e-04,   9.42965491e-04,\n",
      "         2.44950688e-03,   3.85881321e-03,   4.71426560e-04,\n",
      "         8.16437410e-04,   4.71482745e-04,   1.41439204e-03]), 'param_max_features': masked_array(data = ['auto' 'auto' 'auto' 'auto' 'sqrt' 'sqrt' 'sqrt' 'sqrt' 'log2' 'log2'\n",
      " 'log2' 'log2'],\n",
      "             mask = [False False False False False False False False False False False False],\n",
      "       fill_value = ?)\n",
      ", 'param_n_estimators': masked_array(data = [10 20 50 100 10 20 50 100 10 20 50 100],\n",
      "             mask = [False False False False False False False False False False False False],\n",
      "       fill_value = ?)\n",
      ", 'params': [{'max_features': 'auto', 'n_estimators': 10}, {'max_features': 'auto', 'n_estimators': 20}, {'max_features': 'auto', 'n_estimators': 50}, {'max_features': 'auto', 'n_estimators': 100}, {'max_features': 'sqrt', 'n_estimators': 10}, {'max_features': 'sqrt', 'n_estimators': 20}, {'max_features': 'sqrt', 'n_estimators': 50}, {'max_features': 'sqrt', 'n_estimators': 100}, {'max_features': 'log2', 'n_estimators': 10}, {'max_features': 'log2', 'n_estimators': 20}, {'max_features': 'log2', 'n_estimators': 50}, {'max_features': 'log2', 'n_estimators': 100}], 'split0_test_score': array([ 0.62042389,  0.64033398,  0.64932563,  0.65895954,  0.60757868,\n",
      "        0.63134232,  0.64033398,  0.65767502,  0.61721259,  0.66473988,\n",
      "        0.67244701,  0.67244701]), 'split1_test_score': array([ 0.66923571,  0.65510597,  0.65895954,  0.67180475,  0.65382145,\n",
      "        0.66602441,  0.67373154,  0.66923571,  0.63776493,  0.64868337,\n",
      "        0.68721901,  0.6807964 ]), 'split2_test_score': array([ 0.64565916,  0.66881029,  0.67524116,  0.69003215,  0.63729904,\n",
      "        0.6488746 ,  0.66688103,  0.6829582 ,  0.64244373,  0.68360129,\n",
      "        0.68745981,  0.68810289]), 'mean_test_score': array([ 0.64510602,  0.65474406,  0.66116942,  0.67359178,  0.63289784,\n",
      "        0.64874706,  0.6603127 ,  0.66995074,  0.63246948,  0.66566717,\n",
      "        0.6823731 ,  0.68044549]), 'std_test_score': array([ 0.01993544,  0.01162698,  0.0106937 ,  0.01274681,  0.01913699,\n",
      "        0.01416222,  0.01440565,  0.01033309,  0.01095942,  0.01426873,\n",
      "        0.00702175,  0.00639562]), 'rank_test_score': array([10,  8,  6,  3, 11,  9,  7,  4, 12,  5,  1,  2], dtype=int32), 'split0_train_score': array([ 0.98457584,  0.99678663,  0.99742931,  0.99775064,  0.98682519,\n",
      "        0.99582262,  0.99775064,  0.99775064,  0.98714653,  0.99710797,\n",
      "        0.99775064,  0.99775064]), 'split1_train_score': array([ 0.98843188,  0.99614396,  0.99678663,  0.99678663,  0.98586118,\n",
      "        0.99550129,  0.99678663,  0.99678663,  0.98746787,  0.99517995,\n",
      "        0.99678663,  0.99678663]), 'split2_train_score': array([ 0.98490687,  0.99518304,  0.99775209,  0.99775209,  0.98330122,\n",
      "        0.99646757,  0.99743096,  0.99775209,  0.99004496,  0.99710983,\n",
      "        0.99743096,  0.99775209]), 'mean_train_score': array([ 0.98597153,  0.99603788,  0.99732268,  0.99742979,  0.9853292 ,\n",
      "        0.99593049,  0.99732274,  0.99742979,  0.98821978,  0.99646591,\n",
      "        0.99732274,  0.99742979]), 'std_train_score': array([ 0.00174497,  0.00065895,  0.00040129,  0.00045478,  0.00148702,\n",
      "        0.00040179,  0.00040093,  0.00045478,  0.00129724,  0.00090932,\n",
      "        0.00040093,  0.00045478])}\n",
      "min_df: 1\n",
      "n_grams: 3\n",
      "best estimator: RandomForestClassifier(bootstrap=True, class_weight=None, criterion='gini',\n",
      "            max_depth=None, max_features='log2', max_leaf_nodes=None,\n",
      "            min_impurity_decrease=0.0, min_impurity_split=None,\n",
      "            min_samples_leaf=1, min_samples_split=2,\n",
      "            min_weight_fraction_leaf=0.0, n_estimators=100, n_jobs=1,\n",
      "            oob_score=False, random_state=None, verbose=0,\n",
      "            warm_start=False)\n",
      "best params: {'max_features': 'log2', 'n_estimators': 100}\n",
      "best score: 0.659241807668\n",
      "grid scores: {'mean_fit_time': array([  6.94406366,  13.53277397,  34.21262352,  68.6252586 ,\n",
      "         6.7250514 ,  13.83979162,  34.22595763,  68.53325303,\n",
      "         7.46376022,  14.78451228,  36.96278071,  74.48692703]), 'std_fit_time': array([ 0.0509757 ,  0.28411833,  0.79471203,  0.7434008 ,  0.07531839,\n",
      "        0.32191365,  0.34974657,  1.70669857,  0.28230014,  0.48135934,\n",
      "        0.86397235,  1.54481197]), 'mean_score_time': array([ 0.03733563,  0.07100415,  0.17367665,  0.35902047,  0.03566861,\n",
      "        0.07300417,  0.178677  ,  0.34768661,  0.07367094,  0.14134145,\n",
      "        0.34301972,  0.69503983]), 'std_score_time': array([ 0.00169974,  0.00216042,  0.00205487,  0.0158964 ,  0.00047154,\n",
      "        0.0042429 ,  0.00956888,  0.00784604,  0.00249468,  0.00478458,\n",
      "        0.00648112,  0.01589655]), 'param_max_features': masked_array(data = ['auto' 'auto' 'auto' 'auto' 'sqrt' 'sqrt' 'sqrt' 'sqrt' 'log2' 'log2'\n",
      " 'log2' 'log2'],\n",
      "             mask = [False False False False False False False False False False False False],\n",
      "       fill_value = ?)\n",
      ", 'param_n_estimators': masked_array(data = [10 20 50 100 10 20 50 100 10 20 50 100],\n",
      "             mask = [False False False False False False False False False False False False],\n",
      "       fill_value = ?)\n",
      ", 'params': [{'max_features': 'auto', 'n_estimators': 10}, {'max_features': 'auto', 'n_estimators': 20}, {'max_features': 'auto', 'n_estimators': 50}, {'max_features': 'auto', 'n_estimators': 100}, {'max_features': 'sqrt', 'n_estimators': 10}, {'max_features': 'sqrt', 'n_estimators': 20}, {'max_features': 'sqrt', 'n_estimators': 50}, {'max_features': 'sqrt', 'n_estimators': 100}, {'max_features': 'log2', 'n_estimators': 10}, {'max_features': 'log2', 'n_estimators': 20}, {'max_features': 'log2', 'n_estimators': 50}, {'max_features': 'log2', 'n_estimators': 100}], 'split0_test_score': array([ 0.6416185 ,  0.62620424,  0.63648041,  0.62941554,  0.64290302,\n",
      "        0.63583815,  0.63070006,  0.63391137,  0.65189467,  0.64739884,\n",
      "        0.64611432,  0.66345536]), 'split1_test_score': array([ 0.64675658,  0.6480411 ,  0.63776493,  0.64226076,  0.6236352 ,\n",
      "        0.65189467,  0.63519589,  0.64097624,  0.61528581,  0.64611432,\n",
      "        0.65189467,  0.66217084]), 'split2_test_score': array([ 0.64758842,  0.6392283 ,  0.63601286,  0.63794212,  0.64437299,\n",
      "        0.65337621,  0.63858521,  0.63601286,  0.63344051,  0.63987138,\n",
      "        0.64823151,  0.65209003]), 'mean_test_score': array([ 0.6453202 ,  0.63782395,  0.63675305,  0.63653887,  0.63696723,\n",
      "        0.64703363,  0.63482544,  0.63696723,  0.63354037,  0.64446348,\n",
      "        0.64874706,  0.65924181]), 'std_test_score': array([ 0.00264026,  0.00897183,  0.00074075,  0.00533807,  0.00944927,\n",
      "        0.007942  ,  0.0032294 ,  0.00296262,  0.01494887,  0.00328714,\n",
      "        0.00238827,  0.00508097]), 'rank_test_score': array([ 4,  6,  9, 10,  7,  3, 11,  7, 12,  5,  2,  1], dtype=int32), 'split0_train_score': array([ 0.98843188,  0.99710797,  1.        ,  1.        ,  0.98586118,\n",
      "        0.99871465,  1.        ,  1.        ,  0.9938946 ,  0.99935733,\n",
      "        1.        ,  1.        ]), 'split1_train_score': array([ 0.98586118,  0.99550129,  1.        ,  1.        ,  0.98907455,\n",
      "        0.99742931,  1.        ,  1.        ,  0.99325193,  0.99935733,\n",
      "        1.        ,  1.        ]), 'split2_train_score': array([ 0.99165061,  0.9967887 ,  0.99967887,  1.        ,  0.98779705,\n",
      "        0.99839435,  1.        ,  1.        ,  0.99389852,  0.99903661,\n",
      "        1.        ,  1.        ]), 'mean_train_score': array([ 0.98864789,  0.99646598,  0.99989296,  1.        ,  0.98757759,\n",
      "        0.99817944,  1.        ,  1.        ,  0.99368168,  0.99925042,\n",
      "        1.        ,  1.        ]), 'std_train_score': array([ 0.00236845,  0.00069449,  0.00015138,  0.        ,  0.001321  ,\n",
      "        0.0005463 ,  0.        ,  0.        ,  0.00030389,  0.00015119,\n",
      "        0.        ,  0.        ])}\n"
     ]
    }
   ],
   "source": [
    "min_dfs = [0.000001, 0.0001,0.001,1]\n",
    "best_min_df = None # YOUR TURN: put your value of min_df here.\n",
    "\n",
    "#Find the best value for alpha and min_df, and the best classifier\n",
    "best_alpha = None\n",
    "maxscore=-np.inf\n",
    "for min_df in min_dfs:     \n",
    "    vectorizer = CountVectorizer(min_df=min_df, ngram_range=(1,2))       \n",
    "    Xthis, ythis = make_xy(critics, vectorizer)\n",
    "    Xtrainthis = Xthis[mask]\n",
    "    ytrainthis = ythis[mask]\n",
    "    # your turn\n",
    "    rfc = RandomForestClassifier()\n",
    "    param_grid = { \n",
    "        'n_estimators': [10,20,50,100],\n",
    "        'max_features': ['auto', 'sqrt', 'log2']\n",
    "    }\n",
    "    CV_rfc = GridSearchCV(estimator=rfc, param_grid=param_grid)\n",
    "    CV_rfc.fit(Xtrainthis, ytrainthis)\n",
    "    print('min_df:',min_df)\n",
    "    print('n_grams:', gram)\n",
    "    print('best estimator:',CV_rfc.best_estimator_)\n",
    "    print('best params:',CV_rfc.best_params_)\n",
    "    print('best score:',CV_rfc.best_score_)\n",
    "    print('grid scores:', CV_rfc.cv_results_)"
   ]
  },
  {
   "cell_type": "code",
   "execution_count": 200,
   "metadata": {},
   "outputs": [
    {
     "data": {
      "text/plain": [
       "0.70161586485493943"
      ]
     },
     "execution_count": 200,
     "metadata": {},
     "output_type": "execute_result"
    }
   ],
   "source": [
    "vectorizer = CountVectorizer(min_df=0.001, ngram_range=(1,1))       \n",
    "Xthis, ythis = make_xy(critics, vectorizer)\n",
    "Xtrainthis = Xthis[mask]\n",
    "ytrainthis = ythis[mask]\n",
    "Xtestthis = Xthis[~mask]\n",
    "ytestthis = ythis[~mask]\n",
    "rfc = RandomForestClassifier()\n",
    "param_grid = { \n",
    "    'n_estimators': [10,20,50,100],\n",
    "    'max_features': ['auto', 'sqrt', 'log2']\n",
    "}\n",
    "CV_rfc = GridSearchCV(estimator=rfc, param_grid=param_grid)\n",
    "CV_rfc.fit(Xtrainthis, ytrainthis)\n",
    "\n",
    "clf = CV_rfc.best_estimator_\n",
    "\n",
    "clf.score(Xtestthis, ytestthis)\n"
   ]
  },
  {
   "cell_type": "markdown",
   "metadata": {},
   "source": [
    "Using TF-IDF weighting instead of word counts helped improve the training accuracy, but at the cost of reducing testing accuracy -- which is indicative of overfitting on the training data. Varying n_grams did not help."
   ]
  },
  {
   "cell_type": "code",
   "execution_count": 189,
   "metadata": {},
   "outputs": [],
   "source": [
    "#the grid of parameters to search over\n",
    "alphas = [.1, 1, 5, 10, 50]\n",
    "min_dfs = [0.000001, 0.0001,0.001,1]\n",
    "best_min_df = None # YOUR TURN: put your value of min_df here.\n",
    "\n",
    "#Find the best value for alpha and min_df, and the best classifier\n",
    "best_alpha = None\n",
    "maxscore=-np.inf\n",
    "for gram in range(1,4):\n",
    "    for alpha in alphas:   \n",
    "        for min_df in min_dfs:     \n",
    "            tfidfvectorizer = TfidfVectorizer(min_df=min_df, stop_words='english')\n",
    "            Xthis, ythis = make_xy(critics, tfidfvectorizer)\n",
    "            Xtrainthis = Xthis[mask]\n",
    "            ytrainthis = ythis[mask]\n",
    "            # your turn\n",
    "            clf = MultinomialNB(alpha=alpha)\n",
    "            cvscore = cv_score(clf, Xtrainthis, ytrainthis, log_likelihood)\n",
    "            if cvscore > maxscore:\n",
    "                maxscore = cvscore\n",
    "                best_alpha, best_min_df, best_ngram = alpha, min_df, gram"
   ]
  },
  {
   "cell_type": "code",
   "execution_count": 191,
   "metadata": {},
   "outputs": [
    {
     "name": "stdout",
     "output_type": "stream",
     "text": [
      "alpha: 0.100000\n",
      "min_df: 0.000001\n",
      "n_gram: 1.000000\n"
     ]
    }
   ],
   "source": [
    "print(\"alpha: %f\" % best_alpha)\n",
    "print(\"min_df: %f\" % best_min_df)\n",
    "print(\"n_gram: %f\" % best_ngram)"
   ]
  },
  {
   "cell_type": "code",
   "execution_count": 193,
   "metadata": {},
   "outputs": [
    {
     "name": "stdout",
     "output_type": "stream",
     "text": [
      "Accuracy on training data: 0.974299\n",
      "Accuracy on test data:     0.717683\n"
     ]
    }
   ],
   "source": [
    "tfidfvectorizer = TfidfVectorizer(min_df=best_min_df, stop_words='english')\n",
    "X, y = make_xy(critics, tfidfvectorizer)\n",
    "xtrain=X[mask]\n",
    "ytrain=y[mask]\n",
    "xtest=X[~mask]\n",
    "ytest=y[~mask]\n",
    "\n",
    "clf = MultinomialNB(alpha=best_alpha).fit(xtrain, ytrain)\n",
    "\n",
    "#your turn. Print the accuracy on the test and training dataset\n",
    "training_accuracy = clf.score(xtrain, ytrain)\n",
    "test_accuracy = clf.score(xtest, ytest)\n",
    "\n",
    "print(\"Accuracy on training data: {:2f}\".format(training_accuracy))\n",
    "print(\"Accuracy on test data:     {:2f}\".format(test_accuracy))"
   ]
  },
  {
   "cell_type": "code",
   "execution_count": null,
   "metadata": {},
   "outputs": [],
   "source": []
  }
 ],
 "metadata": {
  "kernelspec": {
   "display_name": "Python 3",
   "language": "python",
   "name": "python3"
  },
  "language_info": {
   "codemirror_mode": {
    "name": "ipython",
    "version": 3
   },
   "file_extension": ".py",
   "mimetype": "text/x-python",
   "name": "python",
   "nbconvert_exporter": "python",
   "pygments_lexer": "ipython3",
   "version": "3.6.1"
  }
 },
 "nbformat": 4,
 "nbformat_minor": 1
}
